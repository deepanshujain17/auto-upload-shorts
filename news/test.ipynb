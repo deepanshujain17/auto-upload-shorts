{
 "cells": [
  {
   "cell_type": "code",
   "id": "initial_id",
   "metadata": {
    "collapsed": true,
    "ExecuteTime": {
     "end_time": "2025-05-12T12:49:48.578953Z",
     "start_time": "2025-05-12T12:49:48.387649Z"
    }
   },
   "source": [
    "article = {\n",
    "      \"title\": \"Google's Pixel 7 and 7 Pro’s design gets revealed even more with fresh crisp renders\",\n",
    "      \"description\": \"Now we have a complete image of what the next Google flagship phones will look like. All that's left now is to welcome them during their October announcement!\",\n",
    "      \"content\": \"Google’s highly anticipated upcoming Pixel 7 series is just around the corner, scheduled to be announced on October 6, 2022, at 10 am EDT during the Made by Google event. Well, not that there is any lack of images showing the two new Google phones, b... [1419 chars]\",\n",
    "      \"url\": \"https://www.phonearena.com/news/google-pixel-7-and-pro-design-revealed-even-more-fresh-renders_id142800\",\n",
    "      \"image\": \"https://m-cdn.phonearena.com/images/article/142800-wide-two_1200/Googles-Pixel-7-and-7-Pros-design-gets-revealed-even-more-with-fresh-crisp-renders.jpg\",\n",
    "      \"publishedAt\": \"2022-09-28T08:14:24Z\",\n",
    "      \"source\": {\n",
    "        \"name\": \"PhoneArena\",\n",
    "        \"url\": \"https://www.phonearena.com\"\n",
    "      }\n",
    "    }"
   ],
   "outputs": [],
   "execution_count": 1
  },
  {
   "metadata": {
    "ExecuteTime": {
     "end_time": "2025-05-12T13:14:54.810870Z",
     "start_time": "2025-05-12T13:14:54.790096Z"
    }
   },
   "cell_type": "code",
   "source": [
    "from pytrends.request import TrendReq\n",
    "\n",
    "def get_trending_keywords(region='IN'):\n",
    "    pytrends = TrendReq()\n",
    "    trending_searches = pytrends.trending_searches(pn=region)\n",
    "    return trending_searches[0:10].tolist()\n",
    "\n",
    "print(get_trending_keywords())\n"
   ],
   "id": "164c1846084a4182",
   "outputs": [],
   "execution_count": 83
  },
  {
   "metadata": {
    "ExecuteTime": {
     "end_time": "2025-05-12T13:14:31.887492Z",
     "start_time": "2025-05-12T13:14:31.884906Z"
    }
   },
   "cell_type": "code",
   "source": [
    "import requests\n",
    "from bs4 import BeautifulSoup\n",
    "\n",
    "def get_trending_keywords(region=\"india\", count=5):\n",
    "    url = f\"https://trends24.in/{region}/\"\n",
    "    headers = {\n",
    "        \"User-Agent\": \"Mozilla/5.0\"\n",
    "    }\n",
    "\n",
    "    res = requests.get(url, headers=headers)\n",
    "    res.raise_for_status()\n",
    "\n",
    "    soup = BeautifulSoup(res.text, \"html.parser\")\n",
    "    trends = soup.select(\".trend-card ol li a\")\n",
    "\n",
    "    keywords = []\n",
    "    for trend in trends:\n",
    "        text = trend.get_text(strip=True)\n",
    "        # remove hashtags and truncate if needed\n",
    "        keyword = text.replace(\"#\", \"\")\n",
    "        keywords.append(keyword)\n",
    "\n",
    "    return keywords[:count]\n",
    "\n",
    "# 🧪 Example usage\n",
    "if __name__ == \"__main__\":\n",
    "    print(\"🔥 Trending Twitter Keywords:\")\n",
    "    for i, kw in enumerate(get_trending_keywords(\"india\", 5), 1):\n",
    "        print(f\"{i}. {kw}\")\n"
   ],
   "id": "3fe000563b2af4f7",
   "outputs": [],
   "execution_count": null
  },
  {
   "metadata": {
    "ExecuteTime": {
     "end_time": "2025-05-12T13:14:32.072602Z",
     "start_time": "2025-05-12T13:14:32.070538Z"
    }
   },
   "cell_type": "code",
   "source": "region = \"india\"",
   "id": "cd13f4ee9087d417",
   "outputs": [],
   "execution_count": 78
  },
  {
   "metadata": {
    "ExecuteTime": {
     "end_time": "2025-05-12T13:15:29.818624Z",
     "start_time": "2025-05-12T13:15:29.812624Z"
    }
   },
   "cell_type": "code",
   "source": [
    "url = f\"https://trends24.in/{region}/\"\n",
    "headers = {\n",
    "    \"User-Agent\": \"Mozilla/5.0\"\n",
    "}\n",
    "\n",
    "res = requests.get(url, headers=headers)\n",
    "res.raise_for_status()\n",
    "\n",
    "soup = BeautifulSoup(res.text, \"html.parser\")\n",
    "trends = soup.select(\".trend-card ol li a\")\n",
    "\n",
    "keywords = []\n",
    "for trend in trends:\n",
    "    text = trend.get_text(strip=True)\n",
    "    # remove hashtags and truncate if needed\n",
    "    keyword = text.replace(\"#\", \"\")\n",
    "    keywords.append(keyword)"
   ],
   "id": "930563256822dad9",
   "outputs": [],
   "execution_count": 85
  },
  {
   "metadata": {
    "ExecuteTime": {
     "end_time": "2025-05-12T13:15:31.058287Z",
     "start_time": "2025-05-12T13:15:31.056484Z"
    }
   },
   "cell_type": "code",
   "source": "trends",
   "id": "500998f6fe126371",
   "outputs": [],
   "execution_count": 86
  },
  {
   "metadata": {
    "ExecuteTime": {
     "end_time": "2025-05-12T13:15:31.503044Z",
     "start_time": "2025-05-12T13:15:31.491192Z"
    }
   },
   "cell_type": "code",
   "source": [
    "from selenium import webdriver\n",
    "from selenium.webdriver.chrome.options import Options\n",
    "from selenium.webdriver.chrome.service import Service\n",
    "from webdriver_manager.chrome import ChromeDriverManager\n",
    "from bs4 import BeautifulSoup\n",
    "import time\n",
    "\n",
    "def get_trending_keywords_selenium(region=\"india\", count=5):\n",
    "    url = f\"https://trends24.in/{region}/\"\n",
    "\n",
    "    # Setup headless Chrome\n",
    "    options = Options()\n",
    "    options.add_argument(\"--headless\")\n",
    "    options.add_argument(\"--disable-gpu\")\n",
    "    driver = webdriver.Chrome(service=Service(ChromeDriverManager().install()), options=options)\n",
    "\n",
    "    try:\n",
    "        driver.get(url)\n",
    "        time.sleep(3)  # Wait for JS to render\n",
    "\n",
    "        soup = BeautifulSoup(driver.page_source, \"html.parser\")\n",
    "        trends = soup.select(\".trend-card ol li a\")\n",
    "\n",
    "        keywords = []\n",
    "        for trend in trends:\n",
    "            text = trend.get_text(strip=True)\n",
    "            keyword = text.replace(\"#\", \"\")\n",
    "            keywords.append(keyword)\n",
    "\n",
    "        return keywords[:count]\n",
    "\n",
    "    finally:\n",
    "        driver.quit()\n",
    "\n",
    "# ✅ Test it\n",
    "if __name__ == \"__main__\":\n",
    "    trending = get_trending_keywords_selenium(\"india\", 5)\n",
    "    print(\"🔥 Trending Twitter Hashtags in India:\")\n",
    "    for i, tag in enumerate(trending, 1):\n",
    "        print(f\"{i}. {tag}\")\n"
   ],
   "id": "a7d5eec225f234c1",
   "outputs": [
    {
     "name": "stdout",
     "output_type": "stream",
     "text": [
      "done\n"
     ]
    }
   ],
   "execution_count": 87
  },
  {
   "metadata": {
    "ExecuteTime": {
     "end_time": "2025-05-12T13:15:37.890139Z",
     "start_time": "2025-05-12T13:15:31.683521Z"
    }
   },
   "cell_type": "code",
   "source": [
    "url = f\"https://trends24.in/{region}/\"\n",
    "\n",
    "# Setup headless Chrome\n",
    "options = Options()\n",
    "options.add_argument(\"--headless\")\n",
    "options.add_argument(\"--disable-gpu\")\n",
    "driver = webdriver.Chrome(service=Service(ChromeDriverManager().install()), options=options)"
   ],
   "id": "bbba6d3f3be49693",
   "outputs": [],
   "execution_count": 88
  },
  {
   "metadata": {
    "ExecuteTime": {
     "end_time": "2025-05-12T13:15:37.904624Z",
     "start_time": "2025-05-12T13:15:37.903149Z"
    }
   },
   "cell_type": "code",
   "source": [
    "driver.get(url)\n",
    "time.sleep(3)  # Wait for JS to render\n",
    "\n",
    "soup = BeautifulSoup(driver.page_source, \"html.parser\")\n",
    "trends = soup.select(\".trend-card ol li a\")"
   ],
   "id": "90209a0712863d89",
   "outputs": [],
   "execution_count": null
  },
  {
   "metadata": {},
   "cell_type": "code",
   "outputs": [],
   "execution_count": null,
   "source": [
    "from selenium import webdriver\n",
    "from selenium.webdriver.chrome.options import Options\n",
    "from selenium.webdriver.chrome.service import Service\n",
    "from selenium.webdriver.common.by import By\n",
    "from selenium.webdriver.support.ui import WebDriverWait\n",
    "from selenium.webdriver.support import expected_conditions as EC\n",
    "from webdriver_manager.chrome import ChromeDriverManager\n",
    "from bs4 import BeautifulSoup\n",
    "\n",
    "def get_trending_keywords(region=\"india\", count=5):\n",
    "    url = f\"https://trends24.in/{region}/\"\n",
    "\n",
    "    # Setup headless browser\n",
    "    options = Options()\n",
    "    options.add_argument(\"--headless\")\n",
    "    options.add_argument(\"--disable-gpu\")\n",
    "    driver = webdriver.Chrome(service=Service(ChromeDriverManager().install()), options=options)\n",
    "\n",
    "    try:\n",
    "        driver.get(url)\n",
    "\n",
    "        # Wait up to 10 seconds for the trends list to appear\n",
    "        WebDriverWait(driver, 10).until(\n",
    "            EC.presence_of_element_located((By.CSS_SELECTOR, \".trend-card ol li a\"))\n",
    "        )\n",
    "\n",
    "        # Only now parse the HTML\n",
    "        soup = BeautifulSoup(driver.page_source, \"html.parser\")\n",
    "        trends = soup.select(\".trend-card ol li a\")\n",
    "\n",
    "        keywords = []\n",
    "        for trend in trends:\n",
    "            text = trend.get_text(strip=True)\n",
    "            keyword = text.replace(\"#\", \"\")\n",
    "            keywords.append(keyword)\n",
    "\n",
    "        return keywords[:count]\n",
    "\n",
    "    finally:\n",
    "        driver.quit()\n",
    "\n",
    "# ✅ Run it\n",
    "if __name__ == \"__main__\":\n",
    "    trending_tags = get_trending_keywords(\"india\", 5)\n",
    "    print(\"🔥 Trending Twitter Hashtags in India:\")\n",
    "    for i, tag in enumerate(trending_tags, 1):\n",
    "        print(f\"{i}. {tag}\")\n"
   ],
   "id": "8da25ac0be1eb09d"
  },
  {
   "metadata": {},
   "cell_type": "code",
   "outputs": [],
   "execution_count": null,
   "source": [
    "from pytrends.request import TrendReq\n",
    "\n",
    "def get_daily_trends(region='united_states', count=5):\n",
    "    pytrends = TrendReq(hl='en-US', tz=330)\n",
    "    try:\n",
    "        trending = pytrends.trending_searches(pn=region)\n",
    "        return trending.head(count)[0].tolist()\n",
    "    except Exception as e:\n",
    "        print(\"Error fetching trends:\", e)\n",
    "        return []\n",
    "\n",
    "if __name__ == \"__main__\":\n",
    "    trends = get_daily_trends()\n",
    "    print(\"📈 Top Google Trends:\")\n",
    "    for i, trend in enumerate(trends, 1):\n",
    "        print(f\"{i}. {trend}\")"
   ],
   "id": "ab9296b11fcfcdb6"
  },
  {
   "metadata": {},
   "cell_type": "code",
   "outputs": [],
   "execution_count": null,
   "source": "!pip install google-auth google-auth-oauthlib google-auth-httplib2 google-api-python-client\n",
   "id": "13f3326b96526ca2"
  },
  {
   "metadata": {},
   "cell_type": "code",
   "outputs": [],
   "execution_count": null,
   "source": [
    "import os\n",
    "import pickle\n",
    "from google_auth_oauthlib.flow import InstalledAppFlow\n",
    "from google.auth.transport.requests import Request\n",
    "from googleapiclient.discovery import build\n",
    "\n",
    "# ---- CONFIGURATION ----\n",
    "# SCOPES = [\"https://www.googleapis.com/auth/youtube.readonly\"]\n",
    "SCOPES = [\"https://www.googleapis.com/auth/youtube.force-ssl\"]\n",
    "CLIENT_SECRETS_FILE = \"/Users/deepanshu.jain/PycharmProjects/auto-upload-shorts/others/client_secrets.json\"\n",
    "TOKEN_FILE = \"/Users/deepanshu.jain/PycharmProjects/auto-upload-shorts/others/token.pkl\"\n",
    "\n",
    "def authenticate_youtube():\n",
    "    creds = None\n",
    "\n",
    "    # Load credentials from token file if it exists\n",
    "    if os.path.exists(TOKEN_FILE):\n",
    "        with open(TOKEN_FILE, \"rb\") as token:\n",
    "            creds = pickle.load(token)\n",
    "\n",
    "    # If there are no valid credentials, let the user log in\n",
    "    if not creds or not creds.valid:\n",
    "        if creds and creds.expired and creds.refresh_token:\n",
    "            creds.refresh(Request())\n",
    "        else:\n",
    "            flow = InstalledAppFlow.from_client_secrets_file(\n",
    "                CLIENT_SECRETS_FILE, SCOPES)\n",
    "            creds = flow.run_local_server(port=0)\n",
    "\n",
    "        # Save credentials\n",
    "        with open(TOKEN_FILE, \"wb\") as token:\n",
    "            pickle.dump(creds, token)\n",
    "\n",
    "    # Build the YouTube client\n",
    "    youtube = build(\"youtube\", \"v3\", credentials=creds)\n",
    "    return youtube\n",
    "\n",
    "def get_trending_videos(youtube):\n",
    "    request = youtube.videos().list(\n",
    "        part=\"snippet\",\n",
    "        chart=\"mostPopular\",\n",
    "        maxResults=5,\n",
    "        regionCode=\"IN\"\n",
    "    )\n",
    "    response = request.execute()\n",
    "\n",
    "    for item in response.get(\"items\", []):\n",
    "        snippet = item[\"snippet\"]\n",
    "        print(\"📺 Title:\", snippet.get(\"title\"))\n",
    "        print(\"👤 Channel:\", snippet.get(\"channelTitle\"))\n",
    "        print(\"📅 Published At:\", snippet.get(\"publishedAt\"))\n",
    "        print(\"🏷️ Tags:\", snippet.get(\"tags\", []))\n",
    "        print(\"🔗 Video ID:\", item.get(\"id\"))\n",
    "        print(\"-\" * 60)\n",
    "\n",
    "if __name__ == \"__main__\":\n",
    "    print(\"🔐 Authenticating...\")\n",
    "    youtube = authenticate_youtube()\n",
    "\n",
    "    print(\"📈 Fetching trending videos...\")\n",
    "    get_trending_videos(youtube)\n"
   ],
   "id": "d4faa94f8708eb8a"
  },
  {
   "metadata": {
    "ExecuteTime": {
     "end_time": "2025-05-17T10:27:47.464449Z",
     "start_time": "2025-05-17T10:27:46.939132Z"
    }
   },
   "cell_type": "code",
   "source": [
    "import requests\n",
    "import re\n",
    "from bs4 import BeautifulSoup\n",
    "from news.utils.commons import normalize_hashtag\n",
    "\n",
    "url = \"https://trends24.in/india/delhi\"\n",
    "headers = {\"User-Agent\": \"Mozilla/5.0\"}\n",
    "res = requests.get(url, headers=headers)\n",
    "soup = BeautifulSoup(res.text, \"html.parser\")\n",
    "\n",
    "# trends = soup.select(\"li a\")\n",
    "trends = soup.select(\"ol.trend-card__list li span.trend-name a.trend-link\")\n",
    "for tag in trends[:50]:\n",
    "    text = tag.text.strip()\n",
    "    pattern = re.compile(r'^[\\w\\s#]+$')  # letters, digits, underscore, spaces, # only\n",
    "    if text.startswith(\"#\") and pattern.match(text):\n",
    "        query = normalize_hashtag(text)\n",
    "        print(f\"Query: {query}\")\n"
   ],
   "id": "85348fec0406337e",
   "outputs": [
    {
     "name": "stdout",
     "output_type": "stream",
     "text": [
      "Query: Reject Gaurav Gogoi\n",
      "Query: Goa Farm Land Scam\n",
      "Query: Fan Fest\n",
      "Query: Operation Sindoor\n",
      "Query: Kingdom Star On Filmfare\n",
      "Query: Kedarnath\n",
      "Query: Mission Impossible\n",
      "Query: Bvs\n",
      "Query: Helicopter Crash\n",
      "Query: Neeraj Chopra\n",
      "Query: World Hypertension Day\n",
      "Query: Thuglife Trailer\n",
      "Query: Thugfluencers\n",
      "Query: Madhayaanai\n",
      "Query: World Telecommunication Day\n"
     ]
    }
   ],
   "execution_count": 166
  },
  {
   "metadata": {
    "ExecuteTime": {
     "end_time": "2025-05-17T11:00:29.618043Z",
     "start_time": "2025-05-17T11:00:28.794541Z"
    }
   },
   "cell_type": "code",
   "source": [
    "import requests\n",
    "from utils.commons import get_zulu_time_minus\n",
    "from settings import NewsSettings\n",
    "\n",
    "# Your GNews API key\n",
    "GNEWS_API_KEY=\"7491e9afca2a0ca92223977617c2430e\"\n",
    "\n",
    "# Search query\n",
    "query = \"World Hypertension Day\"\n",
    "\n",
    "# Define the base URL and parameters\n",
    "url = \"https://gnews.io/api/v4/search\"\n",
    "\n",
    "from_time = get_zulu_time_minus(600)\n",
    "print(from_time)\n",
    "\n",
    "params = {\n",
    "    \"q\": query,\n",
    "    \"lang\": \"en\",\n",
    "    \"country\": \"in\",\n",
    "    \"max\": 5,\n",
    "    \"apikey\": GNEWS_API_KEY,\n",
    "    \"sortby\": \"publishedAt\",\n",
    "    \"from\": from_time,\n",
    "}\n",
    "\n",
    "# Make the request\n",
    "response = requests.get(url, params=params)\n",
    "# Check for success\n",
    "if response.status_code == 200:\n",
    "    data = response.json()\n",
    "    print(f\"\\n🔍 Found {len(data['articles'])} articles for query: '{query}'\\n\")\n",
    "    for idx, article in enumerate(data[\"articles\"], 1):\n",
    "        print(f\"{idx}. {article['title']}\")\n",
    "        print(f\"   {article['description']}\")\n",
    "        print(f\"   Source: {article['source']['name']} | Published: {article['publishedAt']}\")\n",
    "        print(\"-\" * 80)\n",
    "else:\n",
    "    print(f\"❌ Error {response.status_code}: {response.text}\")\n"
   ],
   "id": "a9c5dd0ab1a0c00f",
   "outputs": [
    {
     "name": "stdout",
     "output_type": "stream",
     "text": [
      "2025-05-17T01:00:28Z\n",
      "\n",
      "🔍 Found 2 articles for query: 'World Hypertension Day'\n",
      "\n",
      "1. World Hypertension Day 2025 - The Hidden Impact of Blood Pressure On Brain Health: It’s Deeper Than You Think\n",
      "   Did you know - High blood pressure silently damages your brain long before symptoms show. On World Hypertension Day 2025, take a close look at the shocking link you have likely overlooked. TheHealthSite.com\n",
      "   Source: TheHealthSite | Published: 2025-05-17T06:27:00Z\n",
      "--------------------------------------------------------------------------------\n",
      "2. World Hypertension Day 2025: History, Significance, And Why You Should Regularly Monitor BP?\n",
      "   Discover the history and significance of World Hypertension Day 2025 and why regular BP checks are crucial for a healthy life. Read more at news18.com.\n",
      "   Source: News18 | Published: 2025-05-17T01:30:15Z\n",
      "--------------------------------------------------------------------------------\n"
     ]
    }
   ],
   "execution_count": 187
  },
  {
   "metadata": {
    "ExecuteTime": {
     "end_time": "2025-05-17T11:21:10.534844Z",
     "start_time": "2025-05-17T11:21:10.528633Z"
    }
   },
   "cell_type": "code",
   "source": [
    "def clean_pascal_hashtag(text: str) -> str:\n",
    "    text = text.lstrip(\"#\")\n",
    "    pattern = re.compile(\n",
    "        r'''\n",
    "        [A-Z]{3,}(?=[A-Z][a-z])  # acronyms (≥3 letters) before a Pascal-Case word\n",
    "        | [A-Z][a-z]+            # Pascal-Case words\n",
    "        | [A-Z]{3,}              # standalone acronyms (≥3 letters)\n",
    "        ''',\n",
    "        re.VERBOSE\n",
    "    )\n",
    "    words = pattern.findall(text)\n",
    "    return \" \".join(words) or text"
   ],
   "id": "8d87ad96bf1b7eba",
   "outputs": [],
   "execution_count": 227
  },
  {
   "metadata": {
    "ExecuteTime": {
     "end_time": "2025-05-17T11:21:17.645741Z",
     "start_time": "2025-05-17T11:21:17.642643Z"
    }
   },
   "cell_type": "code",
   "source": [
    "print(clean_pascal_hashtag(\"LOLSFanFest2025D1\"))   # → \"LOL Fan Fest\"\n",
    "print(clean_pascal_hashtag(\"RCBKvsKKR\"))           # → \"RCB KKR\"\n",
    "print(clean_pascal_hashtag(\"INDvsPAKFinal\"))      # → \"IND PAK Final\"\n",
    "print(clean_pascal_hashtag(\"USAIndiaMeet\"))       # → \"USA India Meet\"\n",
    "print(clean_pascal_hashtag(\"LOLFestDay\"))         # → \"LOL Fest Day\"\n",
    "print(clean_pascal_hashtag(\"eerajChopra\"))              # → \"COVID\""
   ],
   "id": "1db25145390741fe",
   "outputs": [
    {
     "name": "stdout",
     "output_type": "stream",
     "text": [
      "LOLS Fan Fest\n",
      "RCB Kvs KKR\n",
      "IND PAK Final\n",
      "USA India Meet\n",
      "LOL Fest Day\n",
      "Chopra\n"
     ]
    }
   ],
   "execution_count": 228
  },
  {
   "metadata": {
    "ExecuteTime": {
     "end_time": "2025-05-21T06:47:34.904058Z",
     "start_time": "2025-05-21T06:47:15.988926Z"
    }
   },
   "cell_type": "code",
   "source": [
    "# Text to Audio\n",
    "from gtts import gTTS\n",
    "import os\n",
    "\n",
    "text = \"Hello! This is a realistic text to speech conversion using Python.\"\n",
    "text = \"Trump's attempt to stall Apple Inc’s iPhone assembly plans for India should worry us only if it succeeds. Can the US really afford to put its famed efficiency of capital allocation at stake? Apple should ask.\"\n",
    "\n",
    "# Convert text to speech\n",
    "tts = gTTS(text=text, lang='en', slow=False, tld=\"co.in\")\n",
    "\n",
    "# Save as mp3 file\n",
    "tts.save(\"/Users/deepanshu.jain/PycharmProjects/auto-upload-shorts/output/output_audio.mp3\")\n",
    "\n",
    "# Play (on supported systems)\n",
    "os.system(\"afplay /Users/deepanshu.jain/PycharmProjects/auto-upload-shorts/output/output_audio.mp3\")\n"
   ],
   "id": "9ee32e38b1d99be5",
   "outputs": [
    {
     "data": {
      "text/plain": [
       "0"
      ]
     },
     "execution_count": 25,
     "metadata": {},
     "output_type": "execute_result"
    }
   ],
   "execution_count": 25
  },
  {
   "metadata": {
    "ExecuteTime": {
     "end_time": "2025-05-21T06:48:49.704330Z",
     "start_time": "2025-05-21T06:48:45.144262Z"
    }
   },
   "cell_type": "code",
   "source": [
    "!pip install boto3 playsound\n",
    "# Amazon Polly Text to Audio\n"
   ],
   "id": "38fe70e6b9816b56",
   "outputs": [
    {
     "name": "stdout",
     "output_type": "stream",
     "text": [
      "Collecting boto3\r\n",
      "  Downloading boto3-1.38.20-py3-none-any.whl.metadata (6.6 kB)\r\n",
      "Collecting playsound\r\n",
      "  Downloading playsound-1.3.0.tar.gz (7.7 kB)\r\n",
      "  Installing build dependencies ... \u001B[?25ldone\r\n",
      "\u001B[?25h  Getting requirements to build wheel ... \u001B[?25lerror\r\n",
      "  \u001B[1;31merror\u001B[0m: \u001B[1msubprocess-exited-with-error\u001B[0m\r\n",
      "  \r\n",
      "  \u001B[31m×\u001B[0m \u001B[32mGetting requirements to build wheel\u001B[0m did not run successfully.\r\n",
      "  \u001B[31m│\u001B[0m exit code: \u001B[1;36m1\u001B[0m\r\n",
      "  \u001B[31m╰─>\u001B[0m \u001B[31m[28 lines of output]\u001B[0m\r\n",
      "  \u001B[31m   \u001B[0m Traceback (most recent call last):\r\n",
      "  \u001B[31m   \u001B[0m   File \"/Users/deepanshu.jain/PycharmProjects/auto-upload-shorts/.venv/lib/python3.12/site-packages/pip/_vendor/pyproject_hooks/_in_process/_in_process.py\", line 353, in <module>\r\n",
      "  \u001B[31m   \u001B[0m     main()\r\n",
      "  \u001B[31m   \u001B[0m   File \"/Users/deepanshu.jain/PycharmProjects/auto-upload-shorts/.venv/lib/python3.12/site-packages/pip/_vendor/pyproject_hooks/_in_process/_in_process.py\", line 335, in main\r\n",
      "  \u001B[31m   \u001B[0m     json_out['return_val'] = hook(**hook_input['kwargs'])\r\n",
      "  \u001B[31m   \u001B[0m                              ^^^^^^^^^^^^^^^^^^^^^^^^^^^^\r\n",
      "  \u001B[31m   \u001B[0m   File \"/Users/deepanshu.jain/PycharmProjects/auto-upload-shorts/.venv/lib/python3.12/site-packages/pip/_vendor/pyproject_hooks/_in_process/_in_process.py\", line 118, in get_requires_for_build_wheel\r\n",
      "  \u001B[31m   \u001B[0m     return hook(config_settings)\r\n",
      "  \u001B[31m   \u001B[0m            ^^^^^^^^^^^^^^^^^^^^^\r\n",
      "  \u001B[31m   \u001B[0m   File \"/private/var/folders/1z/6bqz8kdx1h5dvpgfmr5khxrw7wsfzx/T/pip-build-env-yr_z4vgf/overlay/lib/python3.12/site-packages/setuptools/build_meta.py\", line 331, in get_requires_for_build_wheel\r\n",
      "  \u001B[31m   \u001B[0m     return self._get_build_requires(config_settings, requirements=[])\r\n",
      "  \u001B[31m   \u001B[0m            ^^^^^^^^^^^^^^^^^^^^^^^^^^^^^^^^^^^^^^^^^^^^^^^^^^^^^^^^^^\r\n",
      "  \u001B[31m   \u001B[0m   File \"/private/var/folders/1z/6bqz8kdx1h5dvpgfmr5khxrw7wsfzx/T/pip-build-env-yr_z4vgf/overlay/lib/python3.12/site-packages/setuptools/build_meta.py\", line 301, in _get_build_requires\r\n",
      "  \u001B[31m   \u001B[0m     self.run_setup()\r\n",
      "  \u001B[31m   \u001B[0m   File \"/private/var/folders/1z/6bqz8kdx1h5dvpgfmr5khxrw7wsfzx/T/pip-build-env-yr_z4vgf/overlay/lib/python3.12/site-packages/setuptools/build_meta.py\", line 512, in run_setup\r\n",
      "  \u001B[31m   \u001B[0m     super().run_setup(setup_script=setup_script)\r\n",
      "  \u001B[31m   \u001B[0m   File \"/private/var/folders/1z/6bqz8kdx1h5dvpgfmr5khxrw7wsfzx/T/pip-build-env-yr_z4vgf/overlay/lib/python3.12/site-packages/setuptools/build_meta.py\", line 317, in run_setup\r\n",
      "  \u001B[31m   \u001B[0m     exec(code, locals())\r\n",
      "  \u001B[31m   \u001B[0m   File \"<string>\", line 6, in <module>\r\n",
      "  \u001B[31m   \u001B[0m   File \"/Library/Frameworks/Python.framework/Versions/3.12/lib/python3.12/inspect.py\", line 1285, in getsource\r\n",
      "  \u001B[31m   \u001B[0m     lines, lnum = getsourcelines(object)\r\n",
      "  \u001B[31m   \u001B[0m                   ^^^^^^^^^^^^^^^^^^^^^^\r\n",
      "  \u001B[31m   \u001B[0m   File \"/Library/Frameworks/Python.framework/Versions/3.12/lib/python3.12/inspect.py\", line 1267, in getsourcelines\r\n",
      "  \u001B[31m   \u001B[0m     lines, lnum = findsource(object)\r\n",
      "  \u001B[31m   \u001B[0m                   ^^^^^^^^^^^^^^^^^^\r\n",
      "  \u001B[31m   \u001B[0m   File \"/Library/Frameworks/Python.framework/Versions/3.12/lib/python3.12/inspect.py\", line 1096, in findsource\r\n",
      "  \u001B[31m   \u001B[0m     raise OSError('could not get source code')\r\n",
      "  \u001B[31m   \u001B[0m OSError: could not get source code\r\n",
      "  \u001B[31m   \u001B[0m \u001B[31m[end of output]\u001B[0m\r\n",
      "  \r\n",
      "  \u001B[1;35mnote\u001B[0m: This error originates from a subprocess, and is likely not a problem with pip.\r\n",
      "\u001B[?25h\r\n",
      "\u001B[1m[\u001B[0m\u001B[34;49mnotice\u001B[0m\u001B[1;39;49m]\u001B[0m\u001B[39;49m A new release of pip is available: \u001B[0m\u001B[31;49m24.3.1\u001B[0m\u001B[39;49m -> \u001B[0m\u001B[32;49m25.1.1\u001B[0m\r\n",
      "\u001B[1m[\u001B[0m\u001B[34;49mnotice\u001B[0m\u001B[1;39;49m]\u001B[0m\u001B[39;49m To update, run: \u001B[0m\u001B[32;49mpip install --upgrade pip\u001B[0m\r\n",
      "\u001B[1;31merror\u001B[0m: \u001B[1msubprocess-exited-with-error\u001B[0m\r\n",
      "\r\n",
      "\u001B[31m×\u001B[0m \u001B[32mGetting requirements to build wheel\u001B[0m did not run successfully.\r\n",
      "\u001B[31m│\u001B[0m exit code: \u001B[1;36m1\u001B[0m\r\n",
      "\u001B[31m╰─>\u001B[0m See above for output.\r\n",
      "\r\n",
      "\u001B[1;35mnote\u001B[0m: This error originates from a subprocess, and is likely not a problem with pip.\r\n"
     ]
    }
   ],
   "execution_count": 26
  },
  {
   "metadata": {
    "ExecuteTime": {
     "end_time": "2025-05-21T08:13:48.220717Z",
     "start_time": "2025-05-21T08:13:39.989923Z"
    }
   },
   "cell_type": "code",
   "source": [
    "# Text to Blank Video Subtitles\n",
    "\n",
    "from moviepy.video.compositing.CompositeVideoClip import CompositeVideoClip\n",
    "from moviepy.video.VideoClip import TextClip, ColorClip\n",
    "\n",
    "def text_to_video(\n",
    "    text,\n",
    "    output_filename=\"output.mp4\",\n",
    "    duration_per_line=3,\n",
    "    bg_color=(0, 0, 0),\n",
    "    text_color=\"white\",\n",
    "    resolution=(1280, 720),\n",
    "    font_path=\"/Library/Fonts/Arial.ttf\",  # Ensure this path points to a valid .ttf font file on your system\n",
    "    font_size=48,\n",
    "):\n",
    "    lines = [line.strip() for line in text.strip().split(\"\\n\") if line.strip()]\n",
    "    print(lines)\n",
    "    clips = []\n",
    "\n",
    "    for line in lines:\n",
    "        txt_clip = TextClip(\n",
    "            text=line,\n",
    "            font=font_path,\n",
    "            font_size=font_size,\n",
    "            color=text_color,\n",
    "        ).with_duration(duration_per_line).with_position(\"center\")\n",
    "\n",
    "        bg_clip = ColorClip(\n",
    "            size=resolution,\n",
    "            color=bg_color,\n",
    "        ).with_duration(duration_per_line)\n",
    "\n",
    "        composite = CompositeVideoClip([bg_clip, txt_clip])\n",
    "        clips.append(composite)\n",
    "\n",
    "    print(len(clips))\n",
    "    final_video = CompositeVideoClip(clips)\n",
    "    final_video.write_videofile(output_filename, fps=24)\n",
    "\n",
    "# Example usage\n",
    "sample_text = \"\"\"This is the first line of subtitle.\n",
    "Here is the second line.\n",
    "And this is the third.\n",
    "\"\"\"\n",
    "\n",
    "text_to_video(sample_text, output_filename=\"subtitled_video.mp4\")\n"
   ],
   "id": "4eb8e89c008b35cd",
   "outputs": [
    {
     "name": "stderr",
     "output_type": "stream",
     "text": [
      "frame_index:  32%|███▏      | 23/72 [1:07:34<00:06,  7.81it/s, now=None]"
     ]
    },
    {
     "name": "stdout",
     "output_type": "stream",
     "text": [
      "['This is the first line of subtitle.', 'Here is the second line.', 'And this is the third.']\n",
      "3\n",
      "MoviePy - Building video subtitled_video.mp4.\n",
      "MoviePy - Writing video subtitled_video.mp4\n",
      "\n"
     ]
    },
    {
     "name": "stderr",
     "output_type": "stream",
     "text": [
      "\n",
      "frame_index:   0%|          | 0/72 [00:00<?, ?it/s, now=None]\u001B[A\n",
      "frame_index:   3%|▎         | 2/72 [00:00<00:05, 12.63it/s, now=None]\u001B[A\n",
      "frame_index:   6%|▌         | 4/72 [00:00<00:06, 10.16it/s, now=None]\u001B[A\n",
      "frame_index:   8%|▊         | 6/72 [00:00<00:06,  9.77it/s, now=None]\u001B[A\n",
      "frame_index:  11%|█         | 8/72 [00:00<00:06,  9.97it/s, now=None]\u001B[A\n",
      "frame_index:  14%|█▍        | 10/72 [00:00<00:06,  9.89it/s, now=None]\u001B[A\n",
      "frame_index:  15%|█▌        | 11/72 [00:01<00:06,  9.73it/s, now=None]\u001B[A\n",
      "frame_index:  17%|█▋        | 12/72 [00:01<00:06,  9.53it/s, now=None]\u001B[A\n",
      "frame_index:  18%|█▊        | 13/72 [00:01<00:06,  9.54it/s, now=None]\u001B[A\n",
      "frame_index:  19%|█▉        | 14/72 [00:01<00:06,  9.50it/s, now=None]\u001B[A\n",
      "frame_index:  21%|██        | 15/72 [00:01<00:06,  9.32it/s, now=None]\u001B[A\n",
      "frame_index:  22%|██▏       | 16/72 [00:01<00:06,  9.33it/s, now=None]\u001B[A\n",
      "frame_index:  24%|██▎       | 17/72 [00:01<00:05,  9.45it/s, now=None]\u001B[A\n",
      "frame_index:  25%|██▌       | 18/72 [00:01<00:06,  8.99it/s, now=None]\u001B[A\n",
      "frame_index:  26%|██▋       | 19/72 [00:01<00:05,  9.16it/s, now=None]\u001B[A\n",
      "frame_index:  28%|██▊       | 20/72 [00:02<00:05,  9.17it/s, now=None]\u001B[A\n",
      "frame_index:  29%|██▉       | 21/72 [00:02<00:05,  9.28it/s, now=None]\u001B[A\n",
      "frame_index:  31%|███       | 22/72 [00:02<00:05,  9.28it/s, now=None]\u001B[A\n",
      "frame_index:  33%|███▎      | 24/72 [00:02<00:04,  9.61it/s, now=None]\u001B[A\n",
      "frame_index:  35%|███▍      | 25/72 [00:02<00:04,  9.61it/s, now=None]\u001B[A\n",
      "frame_index:  36%|███▌      | 26/72 [00:02<00:04,  9.57it/s, now=None]\u001B[A\n",
      "frame_index:  38%|███▊      | 27/72 [00:02<00:04,  9.39it/s, now=None]\u001B[A\n",
      "frame_index:  39%|███▉      | 28/72 [00:02<00:04,  9.34it/s, now=None]\u001B[A\n",
      "frame_index:  40%|████      | 29/72 [00:03<00:04,  9.40it/s, now=None]\u001B[A\n",
      "frame_index:  42%|████▏     | 30/72 [00:03<00:04,  9.42it/s, now=None]\u001B[A\n",
      "frame_index:  43%|████▎     | 31/72 [00:03<00:04,  9.54it/s, now=None]\u001B[A\n",
      "frame_index:  44%|████▍     | 32/72 [00:03<00:04,  9.34it/s, now=None]\u001B[A\n",
      "frame_index:  46%|████▌     | 33/72 [00:03<00:04,  9.41it/s, now=None]\u001B[A\n",
      "frame_index:  47%|████▋     | 34/72 [00:03<00:04,  9.32it/s, now=None]\u001B[A\n",
      "frame_index:  49%|████▊     | 35/72 [00:03<00:03,  9.31it/s, now=None]\u001B[A\n",
      "frame_index:  50%|█████     | 36/72 [00:03<00:03,  9.04it/s, now=None]\u001B[A\n",
      "frame_index:  51%|█████▏    | 37/72 [00:03<00:03,  8.80it/s, now=None]\u001B[A\n",
      "frame_index:  53%|█████▎    | 38/72 [00:04<00:03,  8.93it/s, now=None]\u001B[A\n",
      "frame_index:  54%|█████▍    | 39/72 [00:04<00:03,  9.03it/s, now=None]\u001B[A\n",
      "frame_index:  56%|█████▌    | 40/72 [00:04<00:03,  9.16it/s, now=None]\u001B[A\n",
      "frame_index:  57%|█████▋    | 41/72 [00:04<00:03,  8.91it/s, now=None]\u001B[A\n",
      "frame_index:  58%|█████▊    | 42/72 [00:04<00:03,  9.13it/s, now=None]\u001B[A\n",
      "frame_index:  60%|█████▉    | 43/72 [00:04<00:03,  9.32it/s, now=None]\u001B[A\n",
      "frame_index:  61%|██████    | 44/72 [00:04<00:02,  9.50it/s, now=None]\u001B[A\n",
      "frame_index:  62%|██████▎   | 45/72 [00:04<00:02,  9.33it/s, now=None]\u001B[A\n",
      "frame_index:  64%|██████▍   | 46/72 [00:04<00:03,  8.48it/s, now=None]\u001B[A\n",
      "frame_index:  65%|██████▌   | 47/72 [00:05<00:02,  8.76it/s, now=None]\u001B[A\n",
      "frame_index:  67%|██████▋   | 48/72 [00:05<00:02,  8.87it/s, now=None]\u001B[A\n",
      "frame_index:  68%|██████▊   | 49/72 [00:05<00:02,  8.90it/s, now=None]\u001B[A\n",
      "frame_index:  71%|███████   | 51/72 [00:05<00:02,  9.51it/s, now=None]\u001B[A\n",
      "frame_index:  72%|███████▏  | 52/72 [00:05<00:02,  9.43it/s, now=None]\u001B[A\n",
      "frame_index:  75%|███████▌  | 54/72 [00:05<00:01,  9.76it/s, now=None]\u001B[A\n",
      "frame_index:  76%|███████▋  | 55/72 [00:05<00:01,  9.58it/s, now=None]\u001B[A\n",
      "frame_index:  78%|███████▊  | 56/72 [00:05<00:01,  9.35it/s, now=None]\u001B[A\n",
      "frame_index:  79%|███████▉  | 57/72 [00:06<00:01,  8.72it/s, now=None]\u001B[A\n",
      "frame_index:  81%|████████  | 58/72 [00:06<00:01,  8.53it/s, now=None]\u001B[A\n",
      "frame_index:  82%|████████▏ | 59/72 [00:06<00:01,  8.49it/s, now=None]\u001B[A\n",
      "frame_index:  83%|████████▎ | 60/72 [00:06<00:01,  8.63it/s, now=None]\u001B[A\n",
      "frame_index:  85%|████████▍ | 61/72 [00:06<00:01,  8.47it/s, now=None]\u001B[A\n",
      "frame_index:  86%|████████▌ | 62/72 [00:06<00:01,  8.35it/s, now=None]\u001B[A\n",
      "frame_index:  88%|████████▊ | 63/72 [00:06<00:01,  8.25it/s, now=None]\u001B[A\n",
      "frame_index:  89%|████████▉ | 64/72 [00:06<00:00,  8.15it/s, now=None]\u001B[A\n",
      "frame_index:  90%|█████████ | 65/72 [00:07<00:00,  8.31it/s, now=None]\u001B[A\n",
      "frame_index:  92%|█████████▏| 66/72 [00:07<00:00,  8.58it/s, now=None]\u001B[A\n",
      "frame_index:  93%|█████████▎| 67/72 [00:07<00:00,  8.85it/s, now=None]\u001B[A\n",
      "frame_index:  94%|█████████▍| 68/72 [00:07<00:00,  9.04it/s, now=None]\u001B[A\n",
      "frame_index:  96%|█████████▌| 69/72 [00:07<00:00,  8.87it/s, now=None]\u001B[A\n",
      "frame_index:  97%|█████████▋| 70/72 [00:07<00:00,  9.15it/s, now=None]\u001B[A\n",
      "frame_index:  99%|█████████▊| 71/72 [00:07<00:00,  8.94it/s, now=None]\u001B[A\n",
      "frame_index: 100%|██████████| 72/72 [00:07<00:00,  8.85it/s, now=None]\u001B[A\n",
      "frame_index:  32%|███▏      | 23/72 [1:07:42<00:06,  7.81it/s, now=None]A"
     ]
    },
    {
     "name": "stdout",
     "output_type": "stream",
     "text": [
      "MoviePy - Done !\n",
      "MoviePy - video ready subtitled_video.mp4\n"
     ]
    }
   ],
   "execution_count": 84
  },
  {
   "metadata": {
    "ExecuteTime": {
     "end_time": "2025-05-21T09:10:34.699301Z",
     "start_time": "2025-05-21T09:10:34.696493Z"
    }
   },
   "cell_type": "code",
   "source": [
    "from moviepy.video.VideoClip import TextClip, ColorClip\n",
    "from moviepy.video.compositing.CompositeVideoClip import CompositeVideoClip\n",
    "from moviepy.audio.io.AudioFileClip import AudioFileClip\n",
    "\n",
    "def text_video_with_audio(\n",
    "    text,\n",
    "    audio_path,\n",
    "    output_path=\"text_with_audio.mp4\",\n",
    "    resolution=(1280, 720),\n",
    "    text_color=\"white\",\n",
    "    bg_color=(0, 0, 0),\n",
    "    font_path=\"/Library/Fonts/Arial.ttf\",\n",
    "    font_size=48,\n",
    "    duration=1,\n",
    "):\n",
    "    # Load audio to determine duration\n",
    "    audio = AudioFileClip(audio_path)\n",
    "\n",
    "    # Text clip\n",
    "    txt_clip = TextClip(\n",
    "        text=text,\n",
    "        font=font_path,\n",
    "        font_size=font_size,\n",
    "        color=text_color,\n",
    "        size=resolution,\n",
    "        method='caption',\n",
    "    ).with_position(\"center\")#.with_duration(duration)\n",
    "\n",
    "    # Background\n",
    "    bg_clip = ColorClip(\n",
    "        size=resolution,\n",
    "        color=bg_color,\n",
    "    ).with_duration(duration)\n",
    "\n",
    "    # Combine text over background\n",
    "    video = CompositeVideoClip([bg_clip, txt_clip]).with_duration(duration).with_audio(audio)\n",
    "\n",
    "    # Export\n",
    "    video.write_videofile(output_path, fps=24)\n",
    "\n",
    "    audio.close()\n",
    "\n",
    "    return video\n"
   ],
   "id": "3af94b8ae32497b2",
   "outputs": [],
   "execution_count": 114
  },
  {
   "metadata": {
    "ExecuteTime": {
     "end_time": "2025-05-21T08:52:50.754336Z",
     "start_time": "2025-05-21T08:52:23.648287Z"
    }
   },
   "cell_type": "code",
   "source": [
    "from moviepy.video.io.VideoFileClip import VideoFileClip\n",
    "from moviepy.video.VideoClip import TextClip\n",
    "from moviepy.video.compositing.CompositeVideoClip import CompositeVideoClip\n",
    "from moviepy.audio.io.AudioFileClip import AudioFileClip\n",
    "\n",
    "def text_to_video_with_bg_compatible(\n",
    "    text,\n",
    "    background_video_path,\n",
    "    audio_path,\n",
    "    output_filename=\"output.mp4\",\n",
    "    duration_per_line=1,\n",
    "    text_color=\"white\",\n",
    "    font_path=\"/Library/Fonts/Arial.ttf\",  # Ensure valid font on Mac\n",
    "    font_size=48,\n",
    "):\n",
    "    lines = [line.strip() for line in text.strip().split(\"\\n\") if line.strip()]\n",
    "    print(\"Subtitle lines:\", lines)\n",
    "\n",
    "    bg_video = VideoFileClip(background_video_path).without_audio()\n",
    "    clips = []\n",
    "\n",
    "    for i, line in enumerate(lines):\n",
    "        start_time = i * duration_per_line\n",
    "\n",
    "        txt_clip = TextClip(\n",
    "            text=line,\n",
    "            font=font_path,\n",
    "            font_size=font_size,\n",
    "            color=text_color,\n",
    "            size=bg_video.size,\n",
    "            method='caption',\n",
    "        ).with_position((\"center\", \"bottom\")).with_duration(duration_per_line)\n",
    "\n",
    "        composite = CompositeVideoClip([bg_video, txt_clip]).with_start(start_time).with_duration(duration_per_line)\n",
    "        clips.append(composite)\n",
    "\n",
    "    total_duration = len(lines) * duration_per_line\n",
    "    final = CompositeVideoClip(clips, size=bg_video.size).with_duration(total_duration)\n",
    "\n",
    "    # Load and attach external audio\n",
    "    audio = AudioFileClip(audio_path)\n",
    "    print(audio)#.subclip(0, total_duration)\n",
    "    # TODO: CompositeVideoClip is not having with_audio. Create a video clip using VideoClip in the for loop beforehand.\n",
    "    final = final.with_audio(audio)\n",
    "\n",
    "    final.write_videofile(output_filename, fps=bg_video.fps)\n",
    "    bg_video.close()\n",
    "    audio.close()\n",
    "\n",
    "# Example usage\n",
    "sample_text = \"\"\"This is the first line of subtitle.\n",
    "Here is the second line.\n",
    "And this is the third.\n",
    "\"\"\"\n",
    "\n",
    "background_path = \"/Users/deepanshu.jain/PycharmProjects/auto-upload-shorts/output/pixabay_videos/India.mp4\"\n",
    "audio_path = \"/Users/deepanshu.jain/PycharmProjects/auto-upload-shorts/output/gtts_audio_output/output_audio.mp3\"\n",
    "\n",
    "text_to_video_with_bg_compatible(\n",
    "    sample_text,\n",
    "    background_video_path=background_path,\n",
    "    audio_path=audio_path,\n",
    "    output_filename=\"../output/moviepy_outputs/video_with_subtitles.mp4\"\n",
    ")"
   ],
   "id": "772276aa39252ac2",
   "outputs": [
    {
     "name": "stdout",
     "output_type": "stream",
     "text": [
      "Subtitle lines: ['This is the first line of subtitle.', 'Here is the second line.', 'And this is the third.']\n",
      "{'video_found': True, 'audio_found': True, 'metadata': {'major_brand': 'mp42', 'minor_version': '0', 'compatible_brands': 'mp42isomavc1', 'creation_time': '2024-02-09T20:45:37.000000Z'}, 'inputs': [{'streams': [{'input_number': 0, 'stream_number': 0, 'stream_type': 'video', 'language': None, 'default': True, 'size': [1920, 1080], 'bitrate': 5565, 'fps': 59.94, 'codec_name': 'h264', 'profile': '(High)', 'metadata': {'Metadata': '', 'creation_time': '2024-02-09T20:45:37.000000Z', 'handler_name': 'Vimeo Artax Video Handler', 'vendor_id': '[0][0][0][0]', 'encoder': 'AVC Coding'}}, {'input_number': 0, 'stream_number': 1, 'stream_type': 'audio', 'language': None, 'default': True, 'fps': 48000, 'bitrate': 189, 'metadata': {'Metadata': '', 'creation_time': '2024-02-09T20:45:37.000000Z', 'handler_name': 'Vimeo Artax Audio Handler', 'vendor_id': '[0][0][0][0]'}}], 'input_number': 0}], 'duration': 23.66, 'bitrate': 5750, 'start': 0.0, 'default_video_input_number': 0, 'default_video_stream_number': 0, 'video_codec_name': 'h264', 'video_profile': '(High)', 'video_size': [1920, 1080], 'video_bitrate': 5565, 'video_fps': 59.94, 'default_audio_input_number': 0, 'default_audio_stream_number': 1, 'audio_fps': 48000, 'audio_bitrate': 189, 'video_duration': 23.66, 'video_n_frames': 1418}\n",
      "/Users/deepanshu.jain/PycharmProjects/auto-upload-shorts/.venv/lib/python3.12/site-packages/imageio_ffmpeg/binaries/ffmpeg-macos-aarch64-v7.1 -i /Users/deepanshu.jain/PycharmProjects/auto-upload-shorts/output/pixabay_videos/India.mp4 -loglevel error -f image2pipe -vf scale=1920:1080 -sws_flags bicubic -pix_fmt rgb24 -vcodec rawvideo -\n"
     ]
    },
    {
     "name": "stderr",
     "output_type": "stream",
     "text": [
      "frame_index:  38%|███▊      | 205/539 [02:09<00:51,  6.52it/s, now=None]"
     ]
    },
    {
     "name": "stdout",
     "output_type": "stream",
     "text": [
      "<moviepy.audio.io.AudioFileClip.AudioFileClip object at 0x112bea450>\n",
      "MoviePy - Building video ../output/moviepy_outputs/video_with_subtitles.mp4.\n",
      "MoviePy - Writing audio in video_with_subtitlesTEMP_MPY_wvf_snd.mp3\n"
     ]
    },
    {
     "name": "stderr",
     "output_type": "stream",
     "text": [
      "\n",
      "chunk:   0%|          | 0/372 [00:00<?, ?it/s, now=None]\u001B[A\n",
      "chunk:  76%|███████▌  | 282/372 [00:00<00:00, 2812.04it/s, now=None]\u001B[A\n",
      "frame_index:  38%|███▊      | 205/539 [02:09<00:51,  6.52it/s, now=None]"
     ]
    },
    {
     "name": "stdout",
     "output_type": "stream",
     "text": [
      "MoviePy - Done.\n",
      "MoviePy - Writing video ../output/moviepy_outputs/video_with_subtitles.mp4\n",
      "\n"
     ]
    },
    {
     "name": "stderr",
     "output_type": "stream",
     "text": [
      "\n",
      "frame_index:   0%|          | 0/179 [00:00<?, ?it/s, now=None]\u001B[A\n",
      "frame_index:   1%|          | 2/179 [00:00<00:16, 11.03it/s, now=None]\u001B[A\n",
      "frame_index:   2%|▏         | 4/179 [00:00<00:20,  8.57it/s, now=None]\u001B[A\n",
      "frame_index:   3%|▎         | 5/179 [00:00<00:21,  7.95it/s, now=None]\u001B[A\n",
      "frame_index:   3%|▎         | 6/179 [00:00<00:22,  7.66it/s, now=None]\u001B[A\n",
      "frame_index:   4%|▍         | 7/179 [00:00<00:22,  7.63it/s, now=None]\u001B[A\n",
      "frame_index:   4%|▍         | 8/179 [00:01<00:22,  7.65it/s, now=None]\u001B[A\n",
      "frame_index:   5%|▌         | 9/179 [00:01<00:22,  7.45it/s, now=None]\u001B[A\n",
      "frame_index:   6%|▌         | 10/179 [00:01<00:22,  7.40it/s, now=None]\u001B[A\n",
      "frame_index:   6%|▌         | 11/179 [00:01<00:22,  7.45it/s, now=None]\u001B[A\n",
      "frame_index:   7%|▋         | 12/179 [00:01<00:22,  7.32it/s, now=None]\u001B[A\n",
      "frame_index:   7%|▋         | 13/179 [00:01<00:22,  7.41it/s, now=None]\u001B[A\n",
      "frame_index:   8%|▊         | 14/179 [00:01<00:22,  7.41it/s, now=None]\u001B[A\n",
      "frame_index:   8%|▊         | 15/179 [00:01<00:22,  7.38it/s, now=None]\u001B[A\n",
      "frame_index:   9%|▉         | 16/179 [00:02<00:21,  7.42it/s, now=None]\u001B[A\n",
      "frame_index:   9%|▉         | 17/179 [00:02<00:22,  7.19it/s, now=None]\u001B[A\n",
      "frame_index:  10%|█         | 18/179 [00:02<00:22,  7.30it/s, now=None]\u001B[A\n",
      "frame_index:  11%|█         | 19/179 [00:02<00:21,  7.33it/s, now=None]\u001B[A\n",
      "frame_index:  11%|█         | 20/179 [00:02<00:21,  7.26it/s, now=None]\u001B[A\n",
      "frame_index:  12%|█▏        | 21/179 [00:02<00:22,  6.94it/s, now=None]\u001B[A\n",
      "frame_index:  12%|█▏        | 22/179 [00:02<00:22,  6.97it/s, now=None]\u001B[A\n",
      "frame_index:  13%|█▎        | 23/179 [00:03<00:22,  7.03it/s, now=None]\u001B[A\n",
      "frame_index:  13%|█▎        | 24/179 [00:03<00:22,  6.96it/s, now=None]\u001B[A\n",
      "frame_index:  14%|█▍        | 25/179 [00:03<00:23,  6.63it/s, now=None]\u001B[A\n",
      "frame_index:  15%|█▍        | 26/179 [00:03<00:22,  6.79it/s, now=None]\u001B[A\n",
      "frame_index:  15%|█▌        | 27/179 [00:03<00:22,  6.76it/s, now=None]\u001B[A\n",
      "frame_index:  16%|█▌        | 28/179 [00:03<00:22,  6.86it/s, now=None]\u001B[A\n",
      "frame_index:  16%|█▌        | 29/179 [00:03<00:21,  6.91it/s, now=None]\u001B[A\n",
      "frame_index:  17%|█▋        | 30/179 [00:04<00:21,  6.96it/s, now=None]\u001B[A\n",
      "frame_index:  17%|█▋        | 31/179 [00:04<00:21,  7.04it/s, now=None]\u001B[A\n",
      "frame_index:  18%|█▊        | 32/179 [00:04<00:20,  7.17it/s, now=None]\u001B[A\n",
      "frame_index:  18%|█▊        | 33/179 [00:04<00:20,  7.12it/s, now=None]\u001B[A\n",
      "frame_index:  19%|█▉        | 34/179 [00:04<00:20,  7.10it/s, now=None]\u001B[A\n",
      "frame_index:  20%|█▉        | 35/179 [00:04<00:20,  7.13it/s, now=None]\u001B[A\n",
      "frame_index:  20%|██        | 36/179 [00:04<00:20,  7.01it/s, now=None]\u001B[A\n",
      "frame_index:  21%|██        | 37/179 [00:05<00:20,  7.07it/s, now=None]\u001B[A\n",
      "frame_index:  21%|██        | 38/179 [00:05<00:19,  7.13it/s, now=None]\u001B[A\n",
      "frame_index:  22%|██▏       | 39/179 [00:05<00:19,  7.07it/s, now=None]\u001B[A\n",
      "frame_index:  22%|██▏       | 40/179 [00:05<00:19,  7.02it/s, now=None]\u001B[A\n",
      "frame_index:  23%|██▎       | 41/179 [00:05<00:19,  7.08it/s, now=None]\u001B[A\n",
      "frame_index:  23%|██▎       | 42/179 [00:05<00:19,  7.01it/s, now=None]\u001B[A\n",
      "frame_index:  24%|██▍       | 43/179 [00:05<00:19,  7.11it/s, now=None]\u001B[A\n",
      "frame_index:  25%|██▍       | 44/179 [00:06<00:19,  7.04it/s, now=None]\u001B[A\n",
      "frame_index:  25%|██▌       | 45/179 [00:06<00:18,  7.21it/s, now=None]\u001B[A\n",
      "frame_index:  26%|██▌       | 46/179 [00:06<00:18,  7.09it/s, now=None]\u001B[A\n",
      "frame_index:  26%|██▋       | 47/179 [00:06<00:18,  7.14it/s, now=None]\u001B[A\n",
      "frame_index:  27%|██▋       | 48/179 [00:06<00:18,  7.11it/s, now=None]\u001B[A\n",
      "frame_index:  27%|██▋       | 49/179 [00:06<00:18,  7.14it/s, now=None]\u001B[A\n",
      "frame_index:  28%|██▊       | 50/179 [00:06<00:18,  7.13it/s, now=None]\u001B[A\n",
      "frame_index:  28%|██▊       | 51/179 [00:07<00:18,  7.10it/s, now=None]\u001B[A\n",
      "frame_index:  29%|██▉       | 52/179 [00:07<00:17,  7.17it/s, now=None]\u001B[A\n",
      "frame_index:  30%|██▉       | 53/179 [00:07<00:17,  7.27it/s, now=None]\u001B[A\n",
      "frame_index:  30%|███       | 54/179 [00:07<00:17,  7.01it/s, now=None]\u001B[A\n",
      "frame_index:  31%|███       | 55/179 [00:07<00:17,  6.96it/s, now=None]\u001B[A\n",
      "frame_index:  31%|███▏      | 56/179 [00:07<00:17,  7.17it/s, now=None]\u001B[A\n",
      "frame_index:  32%|███▏      | 57/179 [00:07<00:17,  7.08it/s, now=None]\u001B[A\n",
      "frame_index:  32%|███▏      | 58/179 [00:08<00:16,  7.16it/s, now=None]\u001B[A\n",
      "frame_index:  33%|███▎      | 59/179 [00:08<00:16,  7.08it/s, now=None]\u001B[A\n",
      "frame_index:  34%|███▎      | 60/179 [00:08<00:16,  7.10it/s, now=None]\u001B[A\n",
      "frame_index:  34%|███▍      | 61/179 [00:08<00:16,  7.04it/s, now=None]\u001B[A"
     ]
    },
    {
     "name": "stdout",
     "output_type": "stream",
     "text": [
      "{'video_found': True, 'audio_found': True, 'metadata': {'major_brand': 'mp42', 'minor_version': '0', 'compatible_brands': 'mp42isomavc1', 'creation_time': '2024-02-09T20:45:37.000000Z'}, 'inputs': [{'streams': [{'input_number': 0, 'stream_number': 0, 'stream_type': 'video', 'language': None, 'default': True, 'size': [1920, 1080], 'bitrate': 5565, 'fps': 59.94, 'codec_name': 'h264', 'profile': '(High)', 'metadata': {'Metadata': '', 'creation_time': '2024-02-09T20:45:37.000000Z', 'handler_name': 'Vimeo Artax Video Handler', 'vendor_id': '[0][0][0][0]', 'encoder': 'AVC Coding'}}, {'input_number': 0, 'stream_number': 1, 'stream_type': 'audio', 'language': None, 'default': True, 'fps': 48000, 'bitrate': 189, 'metadata': {'Metadata': '', 'creation_time': '2024-02-09T20:45:37.000000Z', 'handler_name': 'Vimeo Artax Audio Handler', 'vendor_id': '[0][0][0][0]'}}], 'input_number': 0}], 'duration': 23.66, 'bitrate': 5750, 'start': 0.0, 'default_video_input_number': 0, 'default_video_stream_number': 0, 'video_codec_name': 'h264', 'video_profile': '(High)', 'video_size': [1920, 1080], 'video_bitrate': 5565, 'video_fps': 59.94, 'default_audio_input_number': 0, 'default_audio_stream_number': 1, 'audio_fps': 48000, 'audio_bitrate': 189, 'video_duration': 23.66, 'video_n_frames': 1418}\n",
      "/Users/deepanshu.jain/PycharmProjects/auto-upload-shorts/.venv/lib/python3.12/site-packages/imageio_ffmpeg/binaries/ffmpeg-macos-aarch64-v7.1 -ss 0.000000 -i /Users/deepanshu.jain/PycharmProjects/auto-upload-shorts/output/pixabay_videos/India.mp4 -ss 0.001001 -loglevel error -f image2pipe -vf scale=1920:1080 -sws_flags bicubic -pix_fmt rgb24 -vcodec rawvideo -\n"
     ]
    },
    {
     "name": "stderr",
     "output_type": "stream",
     "text": [
      "\n",
      "frame_index:  35%|███▍      | 62/179 [00:08<00:24,  4.82it/s, now=None]\u001B[A\n",
      "frame_index:  35%|███▌      | 63/179 [00:08<00:21,  5.36it/s, now=None]\u001B[A\n",
      "frame_index:  36%|███▌      | 64/179 [00:09<00:19,  5.83it/s, now=None]\u001B[A\n",
      "frame_index:  36%|███▋      | 65/179 [00:09<00:18,  6.27it/s, now=None]\u001B[A\n",
      "frame_index:  37%|███▋      | 66/179 [00:09<00:17,  6.47it/s, now=None]\u001B[A\n",
      "frame_index:  37%|███▋      | 67/179 [00:09<00:16,  6.68it/s, now=None]\u001B[A\n",
      "frame_index:  38%|███▊      | 68/179 [00:09<00:16,  6.89it/s, now=None]\u001B[A\n",
      "frame_index:  39%|███▊      | 69/179 [00:09<00:15,  7.04it/s, now=None]\u001B[A\n",
      "frame_index:  39%|███▉      | 70/179 [00:09<00:15,  7.04it/s, now=None]\u001B[A\n",
      "frame_index:  40%|███▉      | 71/179 [00:10<00:15,  7.12it/s, now=None]\u001B[A\n",
      "frame_index:  40%|████      | 72/179 [00:10<00:14,  7.23it/s, now=None]\u001B[A\n",
      "frame_index:  41%|████      | 73/179 [00:10<00:14,  7.15it/s, now=None]\u001B[A\n",
      "frame_index:  41%|████▏     | 74/179 [00:10<00:15,  6.66it/s, now=None]\u001B[A\n",
      "frame_index:  42%|████▏     | 75/179 [00:10<00:15,  6.74it/s, now=None]\u001B[A\n",
      "frame_index:  42%|████▏     | 76/179 [00:10<00:14,  6.87it/s, now=None]\u001B[A\n",
      "frame_index:  43%|████▎     | 77/179 [00:10<00:14,  6.90it/s, now=None]\u001B[A\n",
      "frame_index:  44%|████▎     | 78/179 [00:11<00:14,  6.99it/s, now=None]\u001B[A\n",
      "frame_index:  44%|████▍     | 79/179 [00:11<00:14,  7.14it/s, now=None]\u001B[A\n",
      "frame_index:  45%|████▍     | 80/179 [00:11<00:13,  7.16it/s, now=None]\u001B[A\n",
      "frame_index:  45%|████▌     | 81/179 [00:11<00:13,  7.04it/s, now=None]\u001B[A\n",
      "frame_index:  46%|████▌     | 82/179 [00:11<00:14,  6.84it/s, now=None]\u001B[A\n",
      "frame_index:  46%|████▋     | 83/179 [00:11<00:14,  6.79it/s, now=None]\u001B[A\n",
      "frame_index:  47%|████▋     | 84/179 [00:11<00:13,  6.94it/s, now=None]\u001B[A\n",
      "frame_index:  47%|████▋     | 85/179 [00:12<00:13,  7.04it/s, now=None]\u001B[A\n",
      "frame_index:  48%|████▊     | 86/179 [00:12<00:13,  6.74it/s, now=None]\u001B[A\n",
      "frame_index:  49%|████▊     | 87/179 [00:12<00:13,  6.81it/s, now=None]\u001B[A\n",
      "frame_index:  49%|████▉     | 88/179 [00:12<00:12,  7.03it/s, now=None]\u001B[A\n",
      "frame_index:  50%|████▉     | 89/179 [00:12<00:12,  6.97it/s, now=None]\u001B[A\n",
      "frame_index:  50%|█████     | 90/179 [00:12<00:12,  6.93it/s, now=None]\u001B[A\n",
      "frame_index:  51%|█████     | 91/179 [00:12<00:12,  6.89it/s, now=None]\u001B[A\n",
      "frame_index:  51%|█████▏    | 92/179 [00:13<00:12,  6.96it/s, now=None]\u001B[A\n",
      "frame_index:  52%|█████▏    | 93/179 [00:13<00:12,  7.02it/s, now=None]\u001B[A\n",
      "frame_index:  53%|█████▎    | 94/179 [00:13<00:12,  7.01it/s, now=None]\u001B[A\n",
      "frame_index:  53%|█████▎    | 95/179 [00:13<00:11,  7.14it/s, now=None]\u001B[A\n",
      "frame_index:  54%|█████▎    | 96/179 [00:13<00:11,  7.11it/s, now=None]\u001B[A\n",
      "frame_index:  54%|█████▍    | 97/179 [00:13<00:11,  7.21it/s, now=None]\u001B[A\n",
      "frame_index:  55%|█████▍    | 98/179 [00:13<00:11,  7.08it/s, now=None]\u001B[A\n",
      "frame_index:  55%|█████▌    | 99/179 [00:14<00:11,  7.05it/s, now=None]\u001B[A\n",
      "frame_index:  56%|█████▌    | 100/179 [00:14<00:11,  6.94it/s, now=None]\u001B[A\n",
      "frame_index:  56%|█████▋    | 101/179 [00:14<00:11,  7.05it/s, now=None]\u001B[A\n",
      "frame_index:  57%|█████▋    | 102/179 [00:14<00:10,  7.10it/s, now=None]\u001B[A\n",
      "frame_index:  58%|█████▊    | 103/179 [00:14<00:11,  6.91it/s, now=None]\u001B[A\n",
      "frame_index:  58%|█████▊    | 104/179 [00:14<00:10,  6.96it/s, now=None]\u001B[A\n",
      "frame_index:  59%|█████▊    | 105/179 [00:14<00:10,  7.02it/s, now=None]\u001B[A\n",
      "frame_index:  59%|█████▉    | 106/179 [00:15<00:10,  7.02it/s, now=None]\u001B[A\n",
      "frame_index:  60%|█████▉    | 107/179 [00:15<00:10,  7.10it/s, now=None]\u001B[A\n",
      "frame_index:  60%|██████    | 108/179 [00:15<00:09,  7.19it/s, now=None]\u001B[A\n",
      "frame_index:  61%|██████    | 109/179 [00:15<00:09,  7.11it/s, now=None]\u001B[A\n",
      "frame_index:  61%|██████▏   | 110/179 [00:15<00:09,  7.07it/s, now=None]\u001B[A\n",
      "frame_index:  62%|██████▏   | 111/179 [00:15<00:09,  7.13it/s, now=None]\u001B[A\n",
      "frame_index:  63%|██████▎   | 112/179 [00:15<00:09,  7.03it/s, now=None]\u001B[A\n",
      "frame_index:  63%|██████▎   | 113/179 [00:16<00:09,  6.92it/s, now=None]\u001B[A\n",
      "frame_index:  64%|██████▎   | 114/179 [00:16<00:09,  6.89it/s, now=None]\u001B[A\n",
      "frame_index:  64%|██████▍   | 115/179 [00:16<00:09,  6.96it/s, now=None]\u001B[A\n",
      "frame_index:  65%|██████▍   | 116/179 [00:16<00:09,  6.92it/s, now=None]\u001B[A\n",
      "frame_index:  65%|██████▌   | 117/179 [00:16<00:08,  7.03it/s, now=None]\u001B[A\n",
      "frame_index:  66%|██████▌   | 118/179 [00:16<00:08,  7.06it/s, now=None]\u001B[A\n",
      "frame_index:  66%|██████▋   | 119/179 [00:16<00:08,  6.98it/s, now=None]\u001B[A\n",
      "frame_index:  67%|██████▋   | 120/179 [00:17<00:08,  6.84it/s, now=None]\u001B[A\n",
      "frame_index:  68%|██████▊   | 121/179 [00:17<00:08,  6.97it/s, now=None]\u001B[A"
     ]
    },
    {
     "name": "stdout",
     "output_type": "stream",
     "text": [
      "{'video_found': True, 'audio_found': True, 'metadata': {'major_brand': 'mp42', 'minor_version': '0', 'compatible_brands': 'mp42isomavc1', 'creation_time': '2024-02-09T20:45:37.000000Z'}, 'inputs': [{'streams': [{'input_number': 0, 'stream_number': 0, 'stream_type': 'video', 'language': None, 'default': True, 'size': [1920, 1080], 'bitrate': 5565, 'fps': 59.94, 'codec_name': 'h264', 'profile': '(High)', 'metadata': {'Metadata': '', 'creation_time': '2024-02-09T20:45:37.000000Z', 'handler_name': 'Vimeo Artax Video Handler', 'vendor_id': '[0][0][0][0]', 'encoder': 'AVC Coding'}}, {'input_number': 0, 'stream_number': 1, 'stream_type': 'audio', 'language': None, 'default': True, 'fps': 48000, 'bitrate': 189, 'metadata': {'Metadata': '', 'creation_time': '2024-02-09T20:45:37.000000Z', 'handler_name': 'Vimeo Artax Audio Handler', 'vendor_id': '[0][0][0][0]'}}], 'input_number': 0}], 'duration': 23.66, 'bitrate': 5750, 'start': 0.0, 'default_video_input_number': 0, 'default_video_stream_number': 0, 'video_codec_name': 'h264', 'video_profile': '(High)', 'video_size': [1920, 1080], 'video_bitrate': 5565, 'video_fps': 59.94, 'default_audio_input_number': 0, 'default_audio_stream_number': 1, 'audio_fps': 48000, 'audio_bitrate': 189, 'video_duration': 23.66, 'video_n_frames': 1418}\n",
      "/Users/deepanshu.jain/PycharmProjects/auto-upload-shorts/.venv/lib/python3.12/site-packages/imageio_ffmpeg/binaries/ffmpeg-macos-aarch64-v7.1 -ss 0.000000 -i /Users/deepanshu.jain/PycharmProjects/auto-upload-shorts/output/pixabay_videos/India.mp4 -ss 0.002002 -loglevel error -f image2pipe -vf scale=1920:1080 -sws_flags bicubic -pix_fmt rgb24 -vcodec rawvideo -\n"
     ]
    },
    {
     "name": "stderr",
     "output_type": "stream",
     "text": [
      "\n",
      "frame_index:  68%|██████▊   | 122/179 [00:17<00:11,  4.84it/s, now=None]\u001B[A\n",
      "frame_index:  69%|██████▊   | 123/179 [00:17<00:10,  5.35it/s, now=None]\u001B[A\n",
      "frame_index:  69%|██████▉   | 124/179 [00:17<00:09,  5.82it/s, now=None]\u001B[A\n",
      "frame_index:  70%|██████▉   | 125/179 [00:17<00:08,  6.24it/s, now=None]\u001B[A\n",
      "frame_index:  70%|███████   | 126/179 [00:18<00:08,  6.57it/s, now=None]\u001B[A\n",
      "frame_index:  71%|███████   | 127/179 [00:18<00:07,  6.88it/s, now=None]\u001B[A\n",
      "frame_index:  72%|███████▏  | 128/179 [00:18<00:07,  7.10it/s, now=None]\u001B[A\n",
      "frame_index:  72%|███████▏  | 129/179 [00:18<00:06,  7.20it/s, now=None]\u001B[A\n",
      "frame_index:  73%|███████▎  | 130/179 [00:18<00:06,  7.36it/s, now=None]\u001B[A\n",
      "frame_index:  73%|███████▎  | 131/179 [00:18<00:06,  7.33it/s, now=None]\u001B[A\n",
      "frame_index:  74%|███████▎  | 132/179 [00:18<00:06,  7.31it/s, now=None]\u001B[A\n",
      "frame_index:  74%|███████▍  | 133/179 [00:19<00:06,  7.24it/s, now=None]\u001B[A\n",
      "frame_index:  75%|███████▍  | 134/179 [00:19<00:06,  7.15it/s, now=None]\u001B[A\n",
      "frame_index:  75%|███████▌  | 135/179 [00:19<00:06,  7.20it/s, now=None]\u001B[A\n",
      "frame_index:  76%|███████▌  | 136/179 [00:19<00:06,  7.10it/s, now=None]\u001B[A\n",
      "frame_index:  77%|███████▋  | 137/179 [00:19<00:06,  6.99it/s, now=None]\u001B[A\n",
      "frame_index:  77%|███████▋  | 138/179 [00:19<00:05,  7.05it/s, now=None]\u001B[A\n",
      "frame_index:  78%|███████▊  | 139/179 [00:19<00:05,  7.14it/s, now=None]\u001B[A\n",
      "frame_index:  78%|███████▊  | 140/179 [00:20<00:05,  7.18it/s, now=None]\u001B[A\n",
      "frame_index:  79%|███████▉  | 141/179 [00:20<00:05,  7.25it/s, now=None]\u001B[A\n",
      "frame_index:  79%|███████▉  | 142/179 [00:20<00:05,  7.33it/s, now=None]\u001B[A\n",
      "frame_index:  80%|███████▉  | 143/179 [00:20<00:04,  7.42it/s, now=None]\u001B[A\n",
      "frame_index:  80%|████████  | 144/179 [00:20<00:04,  7.03it/s, now=None]\u001B[A\n",
      "frame_index:  81%|████████  | 145/179 [00:20<00:04,  7.00it/s, now=None]\u001B[A\n",
      "frame_index:  82%|████████▏ | 146/179 [00:20<00:04,  7.01it/s, now=None]\u001B[A\n",
      "frame_index:  82%|████████▏ | 147/179 [00:21<00:04,  7.04it/s, now=None]\u001B[A\n",
      "frame_index:  83%|████████▎ | 148/179 [00:21<00:04,  6.74it/s, now=None]\u001B[A\n",
      "frame_index:  83%|████████▎ | 149/179 [00:21<00:04,  6.46it/s, now=None]\u001B[A\n",
      "frame_index:  84%|████████▍ | 150/179 [00:21<00:04,  6.27it/s, now=None]\u001B[A\n",
      "frame_index:  84%|████████▍ | 151/179 [00:21<00:04,  6.17it/s, now=None]\u001B[A\n",
      "frame_index:  85%|████████▍ | 152/179 [00:21<00:04,  6.16it/s, now=None]\u001B[A\n",
      "frame_index:  85%|████████▌ | 153/179 [00:22<00:04,  6.15it/s, now=None]\u001B[A\n",
      "frame_index:  86%|████████▌ | 154/179 [00:22<00:04,  6.24it/s, now=None]\u001B[A\n",
      "frame_index:  87%|████████▋ | 155/179 [00:22<00:03,  6.48it/s, now=None]\u001B[A\n",
      "frame_index:  87%|████████▋ | 156/179 [00:22<00:03,  6.64it/s, now=None]\u001B[A\n",
      "frame_index:  88%|████████▊ | 157/179 [00:22<00:03,  6.74it/s, now=None]\u001B[A\n",
      "frame_index:  88%|████████▊ | 158/179 [00:22<00:03,  6.77it/s, now=None]\u001B[A\n",
      "frame_index:  89%|████████▉ | 159/179 [00:22<00:02,  6.91it/s, now=None]\u001B[A\n",
      "frame_index:  89%|████████▉ | 160/179 [00:23<00:02,  7.02it/s, now=None]\u001B[A\n",
      "frame_index:  90%|████████▉ | 161/179 [00:23<00:02,  7.02it/s, now=None]\u001B[A\n",
      "frame_index:  91%|█████████ | 162/179 [00:23<00:02,  7.01it/s, now=None]\u001B[A\n",
      "frame_index:  91%|█████████ | 163/179 [00:23<00:02,  6.93it/s, now=None]\u001B[A\n",
      "frame_index:  92%|█████████▏| 164/179 [00:23<00:02,  6.86it/s, now=None]\u001B[A\n",
      "frame_index:  92%|█████████▏| 165/179 [00:23<00:02,  6.88it/s, now=None]\u001B[A\n",
      "frame_index:  93%|█████████▎| 166/179 [00:23<00:01,  6.94it/s, now=None]\u001B[A\n",
      "frame_index:  93%|█████████▎| 167/179 [00:24<00:01,  6.86it/s, now=None]\u001B[A\n",
      "frame_index:  94%|█████████▍| 168/179 [00:24<00:01,  6.94it/s, now=None]\u001B[A\n",
      "frame_index:  94%|█████████▍| 169/179 [00:24<00:01,  7.04it/s, now=None]\u001B[A\n",
      "frame_index:  95%|█████████▍| 170/179 [00:24<00:01,  7.00it/s, now=None]\u001B[A\n",
      "frame_index:  96%|█████████▌| 171/179 [00:24<00:01,  7.06it/s, now=None]\u001B[A\n",
      "frame_index:  96%|█████████▌| 172/179 [00:24<00:00,  7.13it/s, now=None]\u001B[A\n",
      "frame_index:  97%|█████████▋| 173/179 [00:24<00:00,  7.03it/s, now=None]\u001B[A\n",
      "frame_index:  97%|█████████▋| 174/179 [00:25<00:00,  7.04it/s, now=None]\u001B[A\n",
      "frame_index:  98%|█████████▊| 175/179 [00:25<00:00,  6.92it/s, now=None]\u001B[A\n",
      "frame_index:  98%|█████████▊| 176/179 [00:25<00:00,  6.94it/s, now=None]\u001B[A\n",
      "frame_index:  99%|█████████▉| 177/179 [00:25<00:00,  7.00it/s, now=None]\u001B[A\n",
      "frame_index:  99%|█████████▉| 178/179 [00:25<00:00,  6.88it/s, now=None]\u001B[A\n",
      "frame_index: 100%|██████████| 179/179 [00:25<00:00,  6.87it/s, now=None]\u001B[A\n",
      "frame_index:  38%|███▊      | 205/539 [02:35<00:51,  6.52it/s, now=None]\u001B[A"
     ]
    },
    {
     "name": "stdout",
     "output_type": "stream",
     "text": [
      "MoviePy - Done !\n",
      "MoviePy - video ready ../output/moviepy_outputs/video_with_subtitles.mp4\n"
     ]
    }
   ],
   "execution_count": 107
  },
  {
   "metadata": {
    "ExecuteTime": {
     "end_time": "2025-05-21T07:51:43.670983Z",
     "start_time": "2025-05-21T07:51:31.032760Z"
    }
   },
   "cell_type": "code",
   "source": [
    "# Text to image download using Unsplash API\n",
    "\n",
    "import requests\n",
    "import os\n",
    "\n",
    "# Replace this with your Unsplash Access Key\n",
    "UNSPLASH_ACCESS_KEY = \"l9SLoy2CIttZ4tM8VnT6EGCXCv3FXlptRJ1XgbZ4dxM\"\n",
    "\n",
    "# Function to search and download the first image for a query\n",
    "def download_unsplash_image(query, output_dir=\"unsplash_images\"):\n",
    "    search_url = \"https://api.unsplash.com/search/photos\"\n",
    "    headers = {\"Accept-Version\": \"v1\"}\n",
    "    params = {\n",
    "        \"query\": query,\n",
    "        \"per_page\": 1,\n",
    "        \"client_id\": UNSPLASH_ACCESS_KEY\n",
    "    }\n",
    "\n",
    "    response = requests.get(search_url, headers=headers, params=params)\n",
    "    response.raise_for_status()\n",
    "    results = response.json()\n",
    "\n",
    "    if not results['results']:\n",
    "        print(f\"No image found for '{query}'.\")\n",
    "        return\n",
    "\n",
    "    image_url = results['results'][0]['urls']['regular']\n",
    "    image_id = results['results'][0]['id']\n",
    "    photographer = results['results'][0]['user']['name']\n",
    "    download_location = results['results'][0]['links']['download_location']\n",
    "\n",
    "    # Track download as per Unsplash guidelines\n",
    "    requests.get(download_location, params={\"client_id\": UNSPLASH_ACCESS_KEY})\n",
    "\n",
    "    # Download image\n",
    "    os.makedirs(output_dir, exist_ok=True)\n",
    "    image_path = os.path.join(output_dir, f\"{image_id}.jpg\")\n",
    "\n",
    "    img_data = requests.get(image_url).content\n",
    "    with open(image_path, 'wb') as f:\n",
    "        f.write(img_data)\n",
    "\n",
    "    print(f\"Downloaded '{query}' image by {photographer} to: {image_path}\")\n",
    "\n",
    "# Example usage\n",
    "if __name__ == \"__main__\":\n",
    "    # Download an image for the queries\n",
    "    queries = [\"India\", \"Nature\", \"Technology\", \"Space\", \"Sports\", \"Cricket\", \"IPL\", \"Bollywood\", \"Hollywood\", \"Music\"]\n",
    "    for query in queries:\n",
    "        download_unsplash_image(query)\n"
   ],
   "id": "9d3d9b904185ecdb",
   "outputs": [
    {
     "name": "stdout",
     "output_type": "stream",
     "text": [
      "Downloaded 'India' image by Julian Yu to: unsplash_images/_WuPjE-MPHo.jpg\n",
      "Downloaded 'Nature' image by Henry Be to: unsplash_images/IicyiaPYGGI.jpg\n",
      "Downloaded 'Technology' image by SumUp to: unsplash_images/PP78vZxCWI0.jpg\n",
      "Downloaded 'Space' image by Casey Horner to: unsplash_images/RmoWqDCqN2E.jpg\n",
      "Downloaded 'Sports' image by Braden Collum to: unsplash_images/9HI8UJMSdZA.jpg\n",
      "Downloaded 'Cricket' image by Yogendra Singh to: unsplash_images/dE3exzmYlKc.jpg\n",
      "Downloaded 'IPL' image by Harsadh Vikhaas Rajesh Kumar to: unsplash_images/uwxNqKHi75U.jpg\n",
      "Downloaded 'Bollywood' image by SHIRAZ HENRY to: unsplash_images/MI3liOWkCp4.jpg\n",
      "Downloaded 'Hollywood' image by Vincentas Liskauskas to: unsplash_images/ErMkvcFla74.jpg\n",
      "Downloaded 'Music' image by Marcela Laskoski to: unsplash_images/YrtFlrLo2DQ.jpg\n"
     ]
    }
   ],
   "execution_count": 73
  },
  {
   "metadata": {},
   "cell_type": "code",
   "outputs": [],
   "execution_count": null,
   "source": "PEXELS_API_KEY = \"M1fI6EQgSEMx59pH5VNfjFykaCpKYmaj5hXa1buo4sPtdGPdmxdxucyY\"",
   "id": "aae162015ac0e390"
  },
  {
   "metadata": {
    "ExecuteTime": {
     "end_time": "2025-05-21T07:59:24.001889Z",
     "start_time": "2025-05-21T07:59:11.304182Z"
    }
   },
   "cell_type": "code",
   "source": [
    "import requests\n",
    "import os\n",
    "\n",
    "PEXELS_API_KEY = \"M1fI6EQgSEMx59pH5VNfjFykaCpKYmaj5hXa1buo4sPtdGPdmxdxucyY\"\n",
    "\n",
    "def download_video_from_pexels(query, output_dir=\"pexels_videos\"):\n",
    "    url = \"https://api.pexels.com/videos/search\"\n",
    "    headers = {\n",
    "        \"Authorization\": PEXELS_API_KEY\n",
    "    }\n",
    "    params = {\n",
    "        \"query\": query,\n",
    "        \"per_page\": 1\n",
    "    }\n",
    "\n",
    "    response = requests.get(url, headers=headers, params=params)\n",
    "    response.raise_for_status()\n",
    "    data = response.json()\n",
    "\n",
    "    if not data['videos']:\n",
    "        print(f\"No video found for '{query}'.\")\n",
    "        return\n",
    "\n",
    "    video = data['videos'][0]\n",
    "    video_url = video['video_files'][0]['link']  # Choose the first available resolution\n",
    "    video_id = video['id']\n",
    "\n",
    "    os.makedirs(output_dir, exist_ok=True)\n",
    "    filepath = os.path.join(output_dir, f\"{query}.mp4\")\n",
    "\n",
    "    print(f\"Downloading video for '{query}' from: {video_url}\")\n",
    "    video_data = requests.get(video_url).content\n",
    "    with open(filepath, 'wb') as f:\n",
    "        f.write(video_data)\n",
    "\n",
    "    print(f\"Saved video to: {filepath}\")\n",
    "\n",
    "# Example usage\n",
    "if __name__ == \"__main__\":\n",
    "    # Download a video for the queries\n",
    "    # queries = [\"Nature\", \"Technology\", \"Space\", \"Sports\", \"Cricket\", \"IPL\", \"Bollywood\", \"Hollywood\", \"Music\"]\n",
    "    queries = [\"India\", \"Donald Trump\", \"Elon Musk\"]\n",
    "    for query in queries:\n",
    "        download_video_from_pexels(query)\n"
   ],
   "id": "6c5900e7e50ad5cc",
   "outputs": [
    {
     "name": "stdout",
     "output_type": "stream",
     "text": [
      "Downloading video for 'India' from: https://videos.pexels.com/video-files/3873465/3873465-hd_1920_1080_30fps.mp4\n",
      "Saved video to: pexels_videos/India.mp4\n",
      "Downloading video for 'Donald Trump' from: https://videos.pexels.com/video-files/2801200/2801200-hd_1280_720_30fps.mp4\n",
      "Saved video to: pexels_videos/Donald Trump.mp4\n",
      "Downloading video for 'Elon Musk' from: https://videos.pexels.com/video-files/19317971/uhd_60fps.mp4\n",
      "Saved video to: pexels_videos/Elon Musk.mp4\n"
     ]
    }
   ],
   "execution_count": 76
  },
  {
   "metadata": {
    "ExecuteTime": {
     "end_time": "2025-05-21T08:03:11.651018Z",
     "start_time": "2025-05-21T08:03:11.646202Z"
    }
   },
   "cell_type": "code",
   "source": "PIXABAY_API_KEY = \"50414627-ee453b785428d83c4ca213405\"",
   "id": "ed1e04693454b953",
   "outputs": [],
   "execution_count": 77
  },
  {
   "metadata": {
    "ExecuteTime": {
     "end_time": "2025-05-21T08:10:46.571504Z",
     "start_time": "2025-05-21T08:10:17.992065Z"
    }
   },
   "cell_type": "code",
   "source": [
    "import requests\n",
    "import os\n",
    "\n",
    "PIXABAY_API_KEY = \"50414627-ee453b785428d83c4ca213405\"\n",
    "\n",
    "def download_pixabay_video(query, output_dir=\"pixabay_videos\"):\n",
    "    url = \"https://pixabay.com/api/videos/\"\n",
    "    params = {\n",
    "        \"key\": PIXABAY_API_KEY,\n",
    "        \"q\": query,\n",
    "        \"per_page\": 3\n",
    "    }\n",
    "\n",
    "    response = requests.get(url, params=params)\n",
    "    response.raise_for_status()\n",
    "    data = response.json()\n",
    "\n",
    "    if not data['hits']:\n",
    "        print(f\"No video found for '{query}'.\")\n",
    "        return\n",
    "\n",
    "    video = data['hits'][0]\n",
    "    video_url = video['videos']['medium']['url']  # You can choose 'small', 'medium', or 'large'\n",
    "    video_id = video['id']\n",
    "\n",
    "    os.makedirs(output_dir, exist_ok=True)\n",
    "    filepath = os.path.join(output_dir, f\"{query}.mp4\")\n",
    "\n",
    "    print(f\"Downloading video for '{query}' from: {video_url}\")\n",
    "    video_data = requests.get(video_url).content\n",
    "    with open(filepath, 'wb') as f:\n",
    "        f.write(video_data)\n",
    "\n",
    "    print(f\"Saved video to: {filepath}\")\n",
    "\n",
    "# Example usage\n",
    "if __name__ == \"__main__\":\n",
    "    # Download a video for the queries\n",
    "    queries = [\"Nature\", \"Technology\", \"Space\", \"Sports\", \"Cricket\", \"Bollywood\", \"Hollywood\", \"Music\", \"India\", \"Elon Musk\", \"Donald Trump\"]\n",
    "    for query in queries:\n",
    "        download_pixabay_video(query)\n"
   ],
   "id": "5130db2057064e2d",
   "outputs": [
    {
     "name": "stdout",
     "output_type": "stream",
     "text": [
      "Downloading video for 'Nature' from: https://cdn.pixabay.com/video/2022/03/18/111204-689949818_medium.mp4\n",
      "Saved video to: pixabay_videos/Nature.mp4\n",
      "Downloading video for 'Technology' from: https://cdn.pixabay.com/video/2016/09/13/5074-182666828_medium.mp4\n",
      "Saved video to: pixabay_videos/Technology.mp4\n",
      "Downloading video for 'Space' from: https://cdn.pixabay.com/video/2015/08/07/5-135665794_medium.mp4\n",
      "Saved video to: pixabay_videos/Space.mp4\n",
      "Downloading video for 'Sports' from: https://cdn.pixabay.com/video/2021/07/18/81945-577442929_medium.mp4\n",
      "Saved video to: pixabay_videos/Sports.mp4\n",
      "Downloading video for 'Cricket' from: https://cdn.pixabay.com/video/2021/10/08/91367-629589180_medium.mp4\n",
      "Saved video to: pixabay_videos/Cricket.mp4\n",
      "Downloading video for 'Bollywood' from: https://cdn.pixabay.com/video/2020/08/25/48071-453667920_medium.mp4\n",
      "Saved video to: pixabay_videos/Bollywood.mp4\n",
      "Downloading video for 'Hollywood' from: https://cdn.pixabay.com/video/2024/07/05/219637_medium.mp4\n",
      "Saved video to: pixabay_videos/Hollywood.mp4\n",
      "Downloading video for 'Music' from: https://cdn.pixabay.com/video/2015/08/08/139-135737102_medium.mp4\n",
      "Saved video to: pixabay_videos/Music.mp4\n",
      "Downloading video for 'India' from: https://cdn.pixabay.com/video/2024/02/09/199958-911694865_medium.mp4\n",
      "Saved video to: pixabay_videos/India.mp4\n",
      "Downloading video for 'Elon Musk' from: https://cdn.pixabay.com/video/2020/10/22/53111-472531864_medium.mp4\n",
      "Saved video to: pixabay_videos/Elon Musk.mp4\n",
      "Downloading video for 'Donald Trump' from: https://cdn.pixabay.com/video/2024/09/02/229375_medium.mp4\n",
      "Saved video to: pixabay_videos/Donald Trump.mp4\n"
     ]
    }
   ],
   "execution_count": 82
  },
  {
   "metadata": {},
   "cell_type": "code",
   "outputs": [],
   "execution_count": null,
   "source": "",
   "id": "a56c1de898da6a45"
  }
 ],
 "metadata": {
  "kernelspec": {
   "display_name": "Python 3",
   "language": "python",
   "name": "python3"
  },
  "language_info": {
   "codemirror_mode": {
    "name": "ipython",
    "version": 2
   },
   "file_extension": ".py",
   "mimetype": "text/x-python",
   "name": "python",
   "nbconvert_exporter": "python",
   "pygments_lexer": "ipython2",
   "version": "2.7.6"
  }
 },
 "nbformat": 4,
 "nbformat_minor": 5
}
