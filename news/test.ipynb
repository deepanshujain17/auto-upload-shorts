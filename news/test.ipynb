{
 "cells": [
  {
   "cell_type": "code",
   "id": "initial_id",
   "metadata": {
    "collapsed": true,
    "ExecuteTime": {
     "end_time": "2025-05-12T12:49:48.578953Z",
     "start_time": "2025-05-12T12:49:48.387649Z"
    }
   },
   "source": [
    "article = {\n",
    "      \"title\": \"Google's Pixel 7 and 7 Pro’s design gets revealed even more with fresh crisp renders\",\n",
    "      \"description\": \"Now we have a complete image of what the next Google flagship phones will look like. All that's left now is to welcome them during their October announcement!\",\n",
    "      \"content\": \"Google’s highly anticipated upcoming Pixel 7 series is just around the corner, scheduled to be announced on October 6, 2022, at 10 am EDT during the Made by Google event. Well, not that there is any lack of images showing the two new Google phones, b... [1419 chars]\",\n",
    "      \"url\": \"https://www.phonearena.com/news/google-pixel-7-and-pro-design-revealed-even-more-fresh-renders_id142800\",\n",
    "      \"image\": \"https://m-cdn.phonearena.com/images/article/142800-wide-two_1200/Googles-Pixel-7-and-7-Pros-design-gets-revealed-even-more-with-fresh-crisp-renders.jpg\",\n",
    "      \"publishedAt\": \"2022-09-28T08:14:24Z\",\n",
    "      \"source\": {\n",
    "        \"name\": \"PhoneArena\",\n",
    "        \"url\": \"https://www.phonearena.com\"\n",
    "      }\n",
    "    }"
   ],
   "outputs": [],
   "execution_count": 1
  },
  {
   "metadata": {
    "ExecuteTime": {
     "end_time": "2025-05-12T13:14:54.810870Z",
     "start_time": "2025-05-12T13:14:54.790096Z"
    }
   },
   "cell_type": "code",
   "source": [
    "from pytrends.request import TrendReq\n",
    "\n",
    "def get_trending_keywords(region='IN'):\n",
    "    pytrends = TrendReq()\n",
    "    trending_searches = pytrends.trending_searches(pn=region)\n",
    "    return trending_searches[0:10].tolist()\n",
    "\n",
    "print(get_trending_keywords())\n"
   ],
   "id": "164c1846084a4182",
   "outputs": [],
   "execution_count": 83
  },
  {
   "metadata": {
    "ExecuteTime": {
     "end_time": "2025-05-12T13:14:31.887492Z",
     "start_time": "2025-05-12T13:14:31.884906Z"
    }
   },
   "cell_type": "code",
   "source": [
    "import requests\n",
    "from bs4 import BeautifulSoup\n",
    "\n",
    "def get_trending_keywords(region=\"india\", count=5):\n",
    "    url = f\"https://trends24.in/{region}/\"\n",
    "    headers = {\n",
    "        \"User-Agent\": \"Mozilla/5.0\"\n",
    "    }\n",
    "\n",
    "    res = requests.get(url, headers=headers)\n",
    "    res.raise_for_status()\n",
    "\n",
    "    soup = BeautifulSoup(res.text, \"html.parser\")\n",
    "    trends = soup.select(\".trend-card ol li a\")\n",
    "\n",
    "    keywords = []\n",
    "    for trend in trends:\n",
    "        text = trend.get_text(strip=True)\n",
    "        # remove hashtags and truncate if needed\n",
    "        keyword = text.replace(\"#\", \"\")\n",
    "        keywords.append(keyword)\n",
    "\n",
    "    return keywords[:count]\n",
    "\n",
    "# 🧪 Example usage\n",
    "if __name__ == \"__main__\":\n",
    "    print(\"🔥 Trending Twitter Keywords:\")\n",
    "    for i, kw in enumerate(get_trending_keywords(\"india\", 5), 1):\n",
    "        print(f\"{i}. {kw}\")\n"
   ],
   "id": "3fe000563b2af4f7",
   "outputs": [],
   "execution_count": null
  },
  {
   "metadata": {
    "ExecuteTime": {
     "end_time": "2025-05-12T13:14:32.072602Z",
     "start_time": "2025-05-12T13:14:32.070538Z"
    }
   },
   "cell_type": "code",
   "source": "region = \"india\"",
   "id": "cd13f4ee9087d417",
   "outputs": [],
   "execution_count": 78
  },
  {
   "metadata": {
    "ExecuteTime": {
     "end_time": "2025-05-12T13:15:29.818624Z",
     "start_time": "2025-05-12T13:15:29.812624Z"
    }
   },
   "cell_type": "code",
   "source": [
    "url = f\"https://trends24.in/{region}/\"\n",
    "headers = {\n",
    "    \"User-Agent\": \"Mozilla/5.0\"\n",
    "}\n",
    "\n",
    "res = requests.get(url, headers=headers)\n",
    "res.raise_for_status()\n",
    "\n",
    "soup = BeautifulSoup(res.text, \"html.parser\")\n",
    "trends = soup.select(\".trend-card ol li a\")\n",
    "\n",
    "keywords = []\n",
    "for trend in trends:\n",
    "    text = trend.get_text(strip=True)\n",
    "    # remove hashtags and truncate if needed\n",
    "    keyword = text.replace(\"#\", \"\")\n",
    "    keywords.append(keyword)"
   ],
   "id": "930563256822dad9",
   "outputs": [],
   "execution_count": 85
  },
  {
   "metadata": {
    "ExecuteTime": {
     "end_time": "2025-05-12T13:15:31.058287Z",
     "start_time": "2025-05-12T13:15:31.056484Z"
    }
   },
   "cell_type": "code",
   "source": "trends",
   "id": "500998f6fe126371",
   "outputs": [],
   "execution_count": 86
  },
  {
   "metadata": {
    "ExecuteTime": {
     "end_time": "2025-05-12T13:15:31.503044Z",
     "start_time": "2025-05-12T13:15:31.491192Z"
    }
   },
   "cell_type": "code",
   "source": [
    "from selenium import webdriver\n",
    "from selenium.webdriver.chrome.options import Options\n",
    "from selenium.webdriver.chrome.service import Service\n",
    "from webdriver_manager.chrome import ChromeDriverManager\n",
    "from bs4 import BeautifulSoup\n",
    "import time\n",
    "\n",
    "def get_trending_keywords_selenium(region=\"india\", count=5):\n",
    "    url = f\"https://trends24.in/{region}/\"\n",
    "\n",
    "    # Setup headless Chrome\n",
    "    options = Options()\n",
    "    options.add_argument(\"--headless\")\n",
    "    options.add_argument(\"--disable-gpu\")\n",
    "    driver = webdriver.Chrome(service=Service(ChromeDriverManager().install()), options=options)\n",
    "\n",
    "    try:\n",
    "        driver.get(url)\n",
    "        time.sleep(3)  # Wait for JS to render\n",
    "\n",
    "        soup = BeautifulSoup(driver.page_source, \"html.parser\")\n",
    "        trends = soup.select(\".trend-card ol li a\")\n",
    "\n",
    "        keywords = []\n",
    "        for trend in trends:\n",
    "            text = trend.get_text(strip=True)\n",
    "            keyword = text.replace(\"#\", \"\")\n",
    "            keywords.append(keyword)\n",
    "\n",
    "        return keywords[:count]\n",
    "\n",
    "    finally:\n",
    "        driver.quit()\n",
    "\n",
    "# ✅ Test it\n",
    "if __name__ == \"__main__\":\n",
    "    trending = get_trending_keywords_selenium(\"india\", 5)\n",
    "    print(\"🔥 Trending Twitter Hashtags in India:\")\n",
    "    for i, tag in enumerate(trending, 1):\n",
    "        print(f\"{i}. {tag}\")\n"
   ],
   "id": "a7d5eec225f234c1",
   "outputs": [
    {
     "name": "stdout",
     "output_type": "stream",
     "text": [
      "done\n"
     ]
    }
   ],
   "execution_count": 87
  },
  {
   "metadata": {
    "ExecuteTime": {
     "end_time": "2025-05-12T13:15:37.890139Z",
     "start_time": "2025-05-12T13:15:31.683521Z"
    }
   },
   "cell_type": "code",
   "source": [
    "url = f\"https://trends24.in/{region}/\"\n",
    "\n",
    "# Setup headless Chrome\n",
    "options = Options()\n",
    "options.add_argument(\"--headless\")\n",
    "options.add_argument(\"--disable-gpu\")\n",
    "driver = webdriver.Chrome(service=Service(ChromeDriverManager().install()), options=options)"
   ],
   "id": "bbba6d3f3be49693",
   "outputs": [],
   "execution_count": 88
  },
  {
   "metadata": {
    "ExecuteTime": {
     "end_time": "2025-05-12T13:15:37.904624Z",
     "start_time": "2025-05-12T13:15:37.903149Z"
    }
   },
   "cell_type": "code",
   "source": [
    "driver.get(url)\n",
    "time.sleep(3)  # Wait for JS to render\n",
    "\n",
    "soup = BeautifulSoup(driver.page_source, \"html.parser\")\n",
    "trends = soup.select(\".trend-card ol li a\")"
   ],
   "id": "90209a0712863d89",
   "outputs": [],
   "execution_count": null
  },
  {
   "metadata": {},
   "cell_type": "code",
   "outputs": [],
   "execution_count": null,
   "source": [
    "from selenium import webdriver\n",
    "from selenium.webdriver.chrome.options import Options\n",
    "from selenium.webdriver.chrome.service import Service\n",
    "from selenium.webdriver.common.by import By\n",
    "from selenium.webdriver.support.ui import WebDriverWait\n",
    "from selenium.webdriver.support import expected_conditions as EC\n",
    "from webdriver_manager.chrome import ChromeDriverManager\n",
    "from bs4 import BeautifulSoup\n",
    "\n",
    "def get_trending_keywords(region=\"india\", count=5):\n",
    "    url = f\"https://trends24.in/{region}/\"\n",
    "\n",
    "    # Setup headless browser\n",
    "    options = Options()\n",
    "    options.add_argument(\"--headless\")\n",
    "    options.add_argument(\"--disable-gpu\")\n",
    "    driver = webdriver.Chrome(service=Service(ChromeDriverManager().install()), options=options)\n",
    "\n",
    "    try:\n",
    "        driver.get(url)\n",
    "\n",
    "        # Wait up to 10 seconds for the trends list to appear\n",
    "        WebDriverWait(driver, 10).until(\n",
    "            EC.presence_of_element_located((By.CSS_SELECTOR, \".trend-card ol li a\"))\n",
    "        )\n",
    "\n",
    "        # Only now parse the HTML\n",
    "        soup = BeautifulSoup(driver.page_source, \"html.parser\")\n",
    "        trends = soup.select(\".trend-card ol li a\")\n",
    "\n",
    "        keywords = []\n",
    "        for trend in trends:\n",
    "            text = trend.get_text(strip=True)\n",
    "            keyword = text.replace(\"#\", \"\")\n",
    "            keywords.append(keyword)\n",
    "\n",
    "        return keywords[:count]\n",
    "\n",
    "    finally:\n",
    "        driver.quit()\n",
    "\n",
    "# ✅ Run it\n",
    "if __name__ == \"__main__\":\n",
    "    trending_tags = get_trending_keywords(\"india\", 5)\n",
    "    print(\"🔥 Trending Twitter Hashtags in India:\")\n",
    "    for i, tag in enumerate(trending_tags, 1):\n",
    "        print(f\"{i}. {tag}\")\n"
   ],
   "id": "8da25ac0be1eb09d"
  },
  {
   "metadata": {},
   "cell_type": "code",
   "outputs": [],
   "execution_count": null,
   "source": [
    "from pytrends.request import TrendReq\n",
    "\n",
    "def get_daily_trends(region='united_states', count=5):\n",
    "    pytrends = TrendReq(hl='en-US', tz=330)\n",
    "    try:\n",
    "        trending = pytrends.trending_searches(pn=region)\n",
    "        return trending.head(count)[0].tolist()\n",
    "    except Exception as e:\n",
    "        print(\"Error fetching trends:\", e)\n",
    "        return []\n",
    "\n",
    "if __name__ == \"__main__\":\n",
    "    trends = get_daily_trends()\n",
    "    print(\"📈 Top Google Trends:\")\n",
    "    for i, trend in enumerate(trends, 1):\n",
    "        print(f\"{i}. {trend}\")"
   ],
   "id": "ab9296b11fcfcdb6"
  },
  {
   "metadata": {},
   "cell_type": "code",
   "outputs": [],
   "execution_count": null,
   "source": "!pip install google-auth google-auth-oauthlib google-auth-httplib2 google-api-python-client\n",
   "id": "13f3326b96526ca2"
  },
  {
   "metadata": {},
   "cell_type": "code",
   "outputs": [],
   "execution_count": null,
   "source": [
    "import os\n",
    "import pickle\n",
    "from google_auth_oauthlib.flow import InstalledAppFlow\n",
    "from google.auth.transport.requests import Request\n",
    "from googleapiclient.discovery import build\n",
    "\n",
    "# ---- CONFIGURATION ----\n",
    "# SCOPES = [\"https://www.googleapis.com/auth/youtube.readonly\"]\n",
    "SCOPES = [\"https://www.googleapis.com/auth/youtube.force-ssl\"]\n",
    "CLIENT_SECRETS_FILE = \"/Users/deepanshu.jain/PycharmProjects/auto-upload-shorts/others/client_secrets.json\"\n",
    "TOKEN_FILE = \"/Users/deepanshu.jain/PycharmProjects/auto-upload-shorts/others/token.pkl\"\n",
    "\n",
    "def authenticate_youtube():\n",
    "    creds = None\n",
    "\n",
    "    # Load credentials from token file if it exists\n",
    "    if os.path.exists(TOKEN_FILE):\n",
    "        with open(TOKEN_FILE, \"rb\") as token:\n",
    "            creds = pickle.load(token)\n",
    "\n",
    "    # If there are no valid credentials, let the user log in\n",
    "    if not creds or not creds.valid:\n",
    "        if creds and creds.expired and creds.refresh_token:\n",
    "            creds.refresh(Request())\n",
    "        else:\n",
    "            flow = InstalledAppFlow.from_client_secrets_file(\n",
    "                CLIENT_SECRETS_FILE, SCOPES)\n",
    "            creds = flow.run_local_server(port=0)\n",
    "\n",
    "        # Save credentials\n",
    "        with open(TOKEN_FILE, \"wb\") as token:\n",
    "            pickle.dump(creds, token)\n",
    "\n",
    "    # Build the YouTube client\n",
    "    youtube = build(\"youtube\", \"v3\", credentials=creds)\n",
    "    return youtube\n",
    "\n",
    "def get_trending_videos(youtube):\n",
    "    request = youtube.videos().list(\n",
    "        part=\"snippet\",\n",
    "        chart=\"mostPopular\",\n",
    "        maxResults=5,\n",
    "        regionCode=\"IN\"\n",
    "    )\n",
    "    response = request.execute()\n",
    "\n",
    "    for item in response.get(\"items\", []):\n",
    "        snippet = item[\"snippet\"]\n",
    "        print(\"📺 Title:\", snippet.get(\"title\"))\n",
    "        print(\"👤 Channel:\", snippet.get(\"channelTitle\"))\n",
    "        print(\"📅 Published At:\", snippet.get(\"publishedAt\"))\n",
    "        print(\"🏷️ Tags:\", snippet.get(\"tags\", []))\n",
    "        print(\"🔗 Video ID:\", item.get(\"id\"))\n",
    "        print(\"-\" * 60)\n",
    "\n",
    "if __name__ == \"__main__\":\n",
    "    print(\"🔐 Authenticating...\")\n",
    "    youtube = authenticate_youtube()\n",
    "\n",
    "    print(\"📈 Fetching trending videos...\")\n",
    "    get_trending_videos(youtube)\n"
   ],
   "id": "d4faa94f8708eb8a"
  },
  {
   "metadata": {
    "ExecuteTime": {
     "end_time": "2025-05-17T10:27:47.464449Z",
     "start_time": "2025-05-17T10:27:46.939132Z"
    }
   },
   "cell_type": "code",
   "source": [
    "import requests\n",
    "import re\n",
    "from bs4 import BeautifulSoup\n",
    "from news.utils.commons import normalize_hashtag\n",
    "\n",
    "url = \"https://trends24.in/india/delhi\"\n",
    "headers = {\"User-Agent\": \"Mozilla/5.0\"}\n",
    "res = requests.get(url, headers=headers)\n",
    "soup = BeautifulSoup(res.text, \"html.parser\")\n",
    "\n",
    "# trends = soup.select(\"li a\")\n",
    "trends = soup.select(\"ol.trend-card__list li span.trend-name a.trend-link\")\n",
    "for tag in trends[:50]:\n",
    "    text = tag.text.strip()\n",
    "    pattern = re.compile(r'^[\\w\\s#]+$')  # letters, digits, underscore, spaces, # only\n",
    "    if text.startswith(\"#\") and pattern.match(text):\n",
    "        query = normalize_hashtag(text)\n",
    "        print(f\"Query: {query}\")\n"
   ],
   "id": "85348fec0406337e",
   "outputs": [
    {
     "name": "stdout",
     "output_type": "stream",
     "text": [
      "Query: Reject Gaurav Gogoi\n",
      "Query: Goa Farm Land Scam\n",
      "Query: Fan Fest\n",
      "Query: Operation Sindoor\n",
      "Query: Kingdom Star On Filmfare\n",
      "Query: Kedarnath\n",
      "Query: Mission Impossible\n",
      "Query: Bvs\n",
      "Query: Helicopter Crash\n",
      "Query: Neeraj Chopra\n",
      "Query: World Hypertension Day\n",
      "Query: Thuglife Trailer\n",
      "Query: Thugfluencers\n",
      "Query: Madhayaanai\n",
      "Query: World Telecommunication Day\n"
     ]
    }
   ],
   "execution_count": 166
  },
  {
   "metadata": {
    "ExecuteTime": {
     "end_time": "2025-05-17T11:00:29.618043Z",
     "start_time": "2025-05-17T11:00:28.794541Z"
    }
   },
   "cell_type": "code",
   "source": [
    "import requests\n",
    "from utils.commons import get_zulu_time_minus\n",
    "from settings import NewsSettings\n",
    "\n",
    "# Your GNews API key\n",
    "GNEWS_API_KEY=\"7491e9afca2a0ca92223977617c2430e\"\n",
    "\n",
    "# Search query\n",
    "query = \"World Hypertension Day\"\n",
    "\n",
    "# Define the base URL and parameters\n",
    "url = \"https://gnews.io/api/v4/search\"\n",
    "\n",
    "from_time = get_zulu_time_minus(600)\n",
    "print(from_time)\n",
    "\n",
    "params = {\n",
    "    \"q\": query,\n",
    "    \"lang\": \"en\",\n",
    "    \"country\": \"in\",\n",
    "    \"max\": 5,\n",
    "    \"apikey\": GNEWS_API_KEY,\n",
    "    \"sortby\": \"publishedAt\",\n",
    "    \"from\": from_time,\n",
    "}\n",
    "\n",
    "# Make the request\n",
    "response = requests.get(url, params=params)\n",
    "# Check for success\n",
    "if response.status_code == 200:\n",
    "    data = response.json()\n",
    "    print(f\"\\n🔍 Found {len(data['articles'])} articles for query: '{query}'\\n\")\n",
    "    for idx, article in enumerate(data[\"articles\"], 1):\n",
    "        print(f\"{idx}. {article['title']}\")\n",
    "        print(f\"   {article['description']}\")\n",
    "        print(f\"   Source: {article['source']['name']} | Published: {article['publishedAt']}\")\n",
    "        print(\"-\" * 80)\n",
    "else:\n",
    "    print(f\"❌ Error {response.status_code}: {response.text}\")\n"
   ],
   "id": "a9c5dd0ab1a0c00f",
   "outputs": [
    {
     "name": "stdout",
     "output_type": "stream",
     "text": [
      "2025-05-17T01:00:28Z\n",
      "\n",
      "🔍 Found 2 articles for query: 'World Hypertension Day'\n",
      "\n",
      "1. World Hypertension Day 2025 - The Hidden Impact of Blood Pressure On Brain Health: It’s Deeper Than You Think\n",
      "   Did you know - High blood pressure silently damages your brain long before symptoms show. On World Hypertension Day 2025, take a close look at the shocking link you have likely overlooked. TheHealthSite.com\n",
      "   Source: TheHealthSite | Published: 2025-05-17T06:27:00Z\n",
      "--------------------------------------------------------------------------------\n",
      "2. World Hypertension Day 2025: History, Significance, And Why You Should Regularly Monitor BP?\n",
      "   Discover the history and significance of World Hypertension Day 2025 and why regular BP checks are crucial for a healthy life. Read more at news18.com.\n",
      "   Source: News18 | Published: 2025-05-17T01:30:15Z\n",
      "--------------------------------------------------------------------------------\n"
     ]
    }
   ],
   "execution_count": 187
  },
  {
   "metadata": {
    "ExecuteTime": {
     "end_time": "2025-05-17T11:16:54.755964Z",
     "start_time": "2025-05-17T11:16:54.749809Z"
    }
   },
   "cell_type": "code",
   "source": [
    "def normalize_hashtag(text: str) -> str:\n",
    "    \"\"\"\n",
    "    Normalize the given text by removing leading '#' and extracting words with Pascal case.\n",
    "    Filters out single-letter words.\n",
    "    e.g. \"#NeerajChopra -> Neeraj Chopra\"\n",
    "\n",
    "    Args:\n",
    "        text (str): The text to normalize.\n",
    "\n",
    "    Returns:\n",
    "        str: Normalized text with words of length > 1.\n",
    "    \"\"\"\n",
    "    text = text.lstrip(\"#\")\n",
    "    # Find groups like LOL or Fest or Day\n",
    "    matches = re.finditer(r'(?:[A-Z]{2,}(?=[A-Z][a-z]|$)|[A-Z][a-z]+)', text)\n",
    "\n",
    "    words = [m.group(0) for m in matches]\n",
    "\n",
    "    return ' '.join(words) or text\n",
    "\n",
    "print(normalize_hashtag(\"RCBvsKKR\"))\n",
    "print(normalize_hashtag(\"LOLFanFest\"))"
   ],
   "id": "698809e631061de",
   "outputs": [
    {
     "name": "stdout",
     "output_type": "stream",
     "text": [
      "RC Bvs KKR\n",
      "LOL Fan Fest\n"
     ]
    }
   ],
   "execution_count": 215
  },
  {
   "metadata": {},
   "cell_type": "code",
   "outputs": [],
   "execution_count": null,
   "source": "",
   "id": "8d87ad96bf1b7eba"
  }
 ],
 "metadata": {
  "kernelspec": {
   "display_name": "Python 3",
   "language": "python",
   "name": "python3"
  },
  "language_info": {
   "codemirror_mode": {
    "name": "ipython",
    "version": 2
   },
   "file_extension": ".py",
   "mimetype": "text/x-python",
   "name": "python",
   "nbconvert_exporter": "python",
   "pygments_lexer": "ipython2",
   "version": "2.7.6"
  }
 },
 "nbformat": 4,
 "nbformat_minor": 5
}
