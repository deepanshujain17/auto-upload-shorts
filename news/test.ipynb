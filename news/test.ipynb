{
 "cells": [
  {
   "cell_type": "code",
   "id": "initial_id",
   "metadata": {
    "collapsed": true,
    "ExecuteTime": {
     "end_time": "2025-05-12T12:49:48.578953Z",
     "start_time": "2025-05-12T12:49:48.387649Z"
    }
   },
   "source": [
    "article = {\n",
    "      \"title\": \"Google's Pixel 7 and 7 Pro’s design gets revealed even more with fresh crisp renders\",\n",
    "      \"description\": \"Now we have a complete image of what the next Google flagship phones will look like. All that's left now is to welcome them during their October announcement!\",\n",
    "      \"content\": \"Google’s highly anticipated upcoming Pixel 7 series is just around the corner, scheduled to be announced on October 6, 2022, at 10 am EDT during the Made by Google event. Well, not that there is any lack of images showing the two new Google phones, b... [1419 chars]\",\n",
    "      \"url\": \"https://www.phonearena.com/news/google-pixel-7-and-pro-design-revealed-even-more-fresh-renders_id142800\",\n",
    "      \"image\": \"https://m-cdn.phonearena.com/images/article/142800-wide-two_1200/Googles-Pixel-7-and-7-Pros-design-gets-revealed-even-more-with-fresh-crisp-renders.jpg\",\n",
    "      \"publishedAt\": \"2022-09-28T08:14:24Z\",\n",
    "      \"source\": {\n",
    "        \"name\": \"PhoneArena\",\n",
    "        \"url\": \"https://www.phonearena.com\"\n",
    "      }\n",
    "    }"
   ],
   "outputs": [],
   "execution_count": 1
  },
  {
   "metadata": {
    "ExecuteTime": {
     "end_time": "2025-05-12T13:14:54.810870Z",
     "start_time": "2025-05-12T13:14:54.790096Z"
    }
   },
   "cell_type": "code",
   "source": [
    "from pytrends.request import TrendReq\n",
    "\n",
    "def get_trending_keywords(region='IN'):\n",
    "    pytrends = TrendReq()\n",
    "    trending_searches = pytrends.trending_searches(pn=region)\n",
    "    return trending_searches[0:10].tolist()\n",
    "\n",
    "print(get_trending_keywords())\n"
   ],
   "id": "164c1846084a4182",
   "outputs": [],
   "execution_count": 83
  },
  {
   "metadata": {
    "ExecuteTime": {
     "end_time": "2025-05-12T13:14:31.887492Z",
     "start_time": "2025-05-12T13:14:31.884906Z"
    }
   },
   "cell_type": "code",
   "source": [
    "import requests\n",
    "from bs4 import BeautifulSoup\n",
    "\n",
    "def get_trending_keywords(region=\"india\", count=5):\n",
    "    url = f\"https://trends24.in/{region}/\"\n",
    "    headers = {\n",
    "        \"User-Agent\": \"Mozilla/5.0\"\n",
    "    }\n",
    "\n",
    "    res = requests.get(url, headers=headers)\n",
    "    res.raise_for_status()\n",
    "\n",
    "    soup = BeautifulSoup(res.text, \"html.parser\")\n",
    "    trends = soup.select(\".trend-card ol li a\")\n",
    "\n",
    "    keywords = []\n",
    "    for trend in trends:\n",
    "        text = trend.get_text(strip=True)\n",
    "        # remove hashtags and truncate if needed\n",
    "        keyword = text.replace(\"#\", \"\")\n",
    "        keywords.append(keyword)\n",
    "\n",
    "    return keywords[:count]\n",
    "\n",
    "# 🧪 Example usage\n",
    "if __name__ == \"__main__\":\n",
    "    print(\"🔥 Trending Twitter Keywords:\")\n",
    "    for i, kw in enumerate(get_trending_keywords(\"india\", 5), 1):\n",
    "        print(f\"{i}. {kw}\")\n"
   ],
   "id": "3fe000563b2af4f7",
   "outputs": [],
   "execution_count": null
  },
  {
   "metadata": {
    "ExecuteTime": {
     "end_time": "2025-05-12T13:14:32.072602Z",
     "start_time": "2025-05-12T13:14:32.070538Z"
    }
   },
   "cell_type": "code",
   "source": "region = \"india\"",
   "id": "cd13f4ee9087d417",
   "outputs": [],
   "execution_count": 78
  },
  {
   "metadata": {
    "ExecuteTime": {
     "end_time": "2025-05-12T13:15:29.818624Z",
     "start_time": "2025-05-12T13:15:29.812624Z"
    }
   },
   "cell_type": "code",
   "source": [
    "url = f\"https://trends24.in/{region}/\"\n",
    "headers = {\n",
    "    \"User-Agent\": \"Mozilla/5.0\"\n",
    "}\n",
    "\n",
    "res = requests.get(url, headers=headers)\n",
    "res.raise_for_status()\n",
    "\n",
    "soup = BeautifulSoup(res.text, \"html.parser\")\n",
    "trends = soup.select(\".trend-card ol li a\")\n",
    "\n",
    "keywords = []\n",
    "for trend in trends:\n",
    "    text = trend.get_text(strip=True)\n",
    "    # remove hashtags and truncate if needed\n",
    "    keyword = text.replace(\"#\", \"\")\n",
    "    keywords.append(keyword)"
   ],
   "id": "930563256822dad9",
   "outputs": [],
   "execution_count": 85
  },
  {
   "metadata": {
    "ExecuteTime": {
     "end_time": "2025-05-12T13:15:31.058287Z",
     "start_time": "2025-05-12T13:15:31.056484Z"
    }
   },
   "cell_type": "code",
   "source": "trends",
   "id": "500998f6fe126371",
   "outputs": [],
   "execution_count": 86
  },
  {
   "metadata": {
    "ExecuteTime": {
     "end_time": "2025-05-12T13:15:31.503044Z",
     "start_time": "2025-05-12T13:15:31.491192Z"
    }
   },
   "cell_type": "code",
   "source": [
    "from selenium import webdriver\n",
    "from selenium.webdriver.chrome.options import Options\n",
    "from selenium.webdriver.chrome.service import Service\n",
    "from webdriver_manager.chrome import ChromeDriverManager\n",
    "from bs4 import BeautifulSoup\n",
    "import time\n",
    "\n",
    "def get_trending_keywords_selenium(region=\"india\", count=5):\n",
    "    url = f\"https://trends24.in/{region}/\"\n",
    "\n",
    "    # Setup headless Chrome\n",
    "    options = Options()\n",
    "    options.add_argument(\"--headless\")\n",
    "    options.add_argument(\"--disable-gpu\")\n",
    "    driver = webdriver.Chrome(service=Service(ChromeDriverManager().install()), options=options)\n",
    "\n",
    "    try:\n",
    "        driver.get(url)\n",
    "        time.sleep(3)  # Wait for JS to render\n",
    "\n",
    "        soup = BeautifulSoup(driver.page_source, \"html.parser\")\n",
    "        trends = soup.select(\".trend-card ol li a\")\n",
    "\n",
    "        keywords = []\n",
    "        for trend in trends:\n",
    "            text = trend.get_text(strip=True)\n",
    "            keyword = text.replace(\"#\", \"\")\n",
    "            keywords.append(keyword)\n",
    "\n",
    "        return keywords[:count]\n",
    "\n",
    "    finally:\n",
    "        driver.quit()\n",
    "\n",
    "# ✅ Test it\n",
    "if __name__ == \"__main__\":\n",
    "    trending = get_trending_keywords_selenium(\"india\", 5)\n",
    "    print(\"🔥 Trending Twitter Hashtags in India:\")\n",
    "    for i, tag in enumerate(trending, 1):\n",
    "        print(f\"{i}. {tag}\")\n"
   ],
   "id": "a7d5eec225f234c1",
   "outputs": [
    {
     "name": "stdout",
     "output_type": "stream",
     "text": [
      "done\n"
     ]
    }
   ],
   "execution_count": 87
  },
  {
   "metadata": {
    "ExecuteTime": {
     "end_time": "2025-05-12T13:15:37.890139Z",
     "start_time": "2025-05-12T13:15:31.683521Z"
    }
   },
   "cell_type": "code",
   "source": [
    "url = f\"https://trends24.in/{region}/\"\n",
    "\n",
    "# Setup headless Chrome\n",
    "options = Options()\n",
    "options.add_argument(\"--headless\")\n",
    "options.add_argument(\"--disable-gpu\")\n",
    "driver = webdriver.Chrome(service=Service(ChromeDriverManager().install()), options=options)"
   ],
   "id": "bbba6d3f3be49693",
   "outputs": [],
   "execution_count": 88
  },
  {
   "metadata": {
    "ExecuteTime": {
     "end_time": "2025-05-12T13:15:37.904624Z",
     "start_time": "2025-05-12T13:15:37.903149Z"
    }
   },
   "cell_type": "code",
   "source": [
    "driver.get(url)\n",
    "time.sleep(3)  # Wait for JS to render\n",
    "\n",
    "soup = BeautifulSoup(driver.page_source, \"html.parser\")\n",
    "trends = soup.select(\".trend-card ol li a\")"
   ],
   "id": "90209a0712863d89",
   "outputs": [],
   "execution_count": null
  },
  {
   "metadata": {},
   "cell_type": "code",
   "outputs": [],
   "execution_count": null,
   "source": [
    "from selenium import webdriver\n",
    "from selenium.webdriver.chrome.options import Options\n",
    "from selenium.webdriver.chrome.service import Service\n",
    "from selenium.webdriver.common.by import By\n",
    "from selenium.webdriver.support.ui import WebDriverWait\n",
    "from selenium.webdriver.support import expected_conditions as EC\n",
    "from webdriver_manager.chrome import ChromeDriverManager\n",
    "from bs4 import BeautifulSoup\n",
    "\n",
    "def get_trending_keywords(region=\"india\", count=5):\n",
    "    url = f\"https://trends24.in/{region}/\"\n",
    "\n",
    "    # Setup headless browser\n",
    "    options = Options()\n",
    "    options.add_argument(\"--headless\")\n",
    "    options.add_argument(\"--disable-gpu\")\n",
    "    driver = webdriver.Chrome(service=Service(ChromeDriverManager().install()), options=options)\n",
    "\n",
    "    try:\n",
    "        driver.get(url)\n",
    "\n",
    "        # Wait up to 10 seconds for the trends list to appear\n",
    "        WebDriverWait(driver, 10).until(\n",
    "            EC.presence_of_element_located((By.CSS_SELECTOR, \".trend-card ol li a\"))\n",
    "        )\n",
    "\n",
    "        # Only now parse the HTML\n",
    "        soup = BeautifulSoup(driver.page_source, \"html.parser\")\n",
    "        trends = soup.select(\".trend-card ol li a\")\n",
    "\n",
    "        keywords = []\n",
    "        for trend in trends:\n",
    "            text = trend.get_text(strip=True)\n",
    "            keyword = text.replace(\"#\", \"\")\n",
    "            keywords.append(keyword)\n",
    "\n",
    "        return keywords[:count]\n",
    "\n",
    "    finally:\n",
    "        driver.quit()\n",
    "\n",
    "# ✅ Run it\n",
    "if __name__ == \"__main__\":\n",
    "    trending_tags = get_trending_keywords(\"india\", 5)\n",
    "    print(\"🔥 Trending Twitter Hashtags in India:\")\n",
    "    for i, tag in enumerate(trending_tags, 1):\n",
    "        print(f\"{i}. {tag}\")\n"
   ],
   "id": "8da25ac0be1eb09d"
  },
  {
   "metadata": {},
   "cell_type": "code",
   "outputs": [],
   "execution_count": null,
   "source": [
    "from pytrends.request import TrendReq\n",
    "\n",
    "def get_daily_trends(region='united_states', count=5):\n",
    "    pytrends = TrendReq(hl='en-US', tz=330)\n",
    "    try:\n",
    "        trending = pytrends.trending_searches(pn=region)\n",
    "        return trending.head(count)[0].tolist()\n",
    "    except Exception as e:\n",
    "        print(\"Error fetching trends:\", e)\n",
    "        return []\n",
    "\n",
    "if __name__ == \"__main__\":\n",
    "    trends = get_daily_trends()\n",
    "    print(\"📈 Top Google Trends:\")\n",
    "    for i, trend in enumerate(trends, 1):\n",
    "        print(f\"{i}. {trend}\")"
   ],
   "id": "ab9296b11fcfcdb6"
  },
  {
   "metadata": {},
   "cell_type": "code",
   "outputs": [],
   "execution_count": null,
   "source": "!pip install google-auth google-auth-oauthlib google-auth-httplib2 google-api-python-client\n",
   "id": "13f3326b96526ca2"
  },
  {
   "metadata": {},
   "cell_type": "code",
   "outputs": [],
   "execution_count": null,
   "source": [
    "import os\n",
    "import pickle\n",
    "from google_auth_oauthlib.flow import InstalledAppFlow\n",
    "from google.auth.transport.requests import Request\n",
    "from googleapiclient.discovery import build\n",
    "\n",
    "# ---- CONFIGURATION ----\n",
    "# SCOPES = [\"https://www.googleapis.com/auth/youtube.readonly\"]\n",
    "SCOPES = [\"https://www.googleapis.com/auth/youtube.force-ssl\"]\n",
    "CLIENT_SECRETS_FILE = \"/Users/deepanshu.jain/PycharmProjects/auto-upload-shorts/others/client_secrets.json\"\n",
    "TOKEN_FILE = \"/Users/deepanshu.jain/PycharmProjects/auto-upload-shorts/others/token.pkl\"\n",
    "\n",
    "def authenticate_youtube():\n",
    "    creds = None\n",
    "\n",
    "    # Load credentials from token file if it exists\n",
    "    if os.path.exists(TOKEN_FILE):\n",
    "        with open(TOKEN_FILE, \"rb\") as token:\n",
    "            creds = pickle.load(token)\n",
    "\n",
    "    # If there are no valid credentials, let the user log in\n",
    "    if not creds or not creds.valid:\n",
    "        if creds and creds.expired and creds.refresh_token:\n",
    "            creds.refresh(Request())\n",
    "        else:\n",
    "            flow = InstalledAppFlow.from_client_secrets_file(\n",
    "                CLIENT_SECRETS_FILE, SCOPES)\n",
    "            creds = flow.run_local_server(port=0)\n",
    "\n",
    "        # Save credentials\n",
    "        with open(TOKEN_FILE, \"wb\") as token:\n",
    "            pickle.dump(creds, token)\n",
    "\n",
    "    # Build the YouTube client\n",
    "    youtube = build(\"youtube\", \"v3\", credentials=creds)\n",
    "    return youtube\n",
    "\n",
    "def get_trending_videos(youtube):\n",
    "    request = youtube.videos().list(\n",
    "        part=\"snippet\",\n",
    "        chart=\"mostPopular\",\n",
    "        maxResults=5,\n",
    "        regionCode=\"IN\"\n",
    "    )\n",
    "    response = request.execute()\n",
    "\n",
    "    for item in response.get(\"items\", []):\n",
    "        snippet = item[\"snippet\"]\n",
    "        print(\"📺 Title:\", snippet.get(\"title\"))\n",
    "        print(\"👤 Channel:\", snippet.get(\"channelTitle\"))\n",
    "        print(\"📅 Published At:\", snippet.get(\"publishedAt\"))\n",
    "        print(\"🏷️ Tags:\", snippet.get(\"tags\", []))\n",
    "        print(\"🔗 Video ID:\", item.get(\"id\"))\n",
    "        print(\"-\" * 60)\n",
    "\n",
    "if __name__ == \"__main__\":\n",
    "    print(\"🔐 Authenticating...\")\n",
    "    youtube = authenticate_youtube()\n",
    "\n",
    "    print(\"📈 Fetching trending videos...\")\n",
    "    get_trending_videos(youtube)\n"
   ],
   "id": "499d275e005e640"
  },
  {
   "metadata": {
    "ExecuteTime": {
     "end_time": "2025-05-17T08:24:44.327550Z",
     "start_time": "2025-05-17T08:24:43.432392Z"
    }
   },
   "cell_type": "code",
   "source": [
    "import requests\n",
    "\n",
    "# Your GNews API key\n",
    "GNEWS_API_KEY=\"7491e9afca2a0ca92223977617c2430e\"\n",
    "\n",
    "# Search query\n",
    "query = \"Neeraj Chopra\"\n",
    "\n",
    "# Define the base URL and parameters\n",
    "url = \"https://gnews.io/api/v4/search\"\n",
    "params = {\n",
    "    \"q\": query,\n",
    "    \"lang\": \"en\",\n",
    "    \"country\": \"in\",\n",
    "    \"max\": 5,\n",
    "    \"apikey\": GNEWS_API_KEY,\n",
    "    \"sortby\": \"publishedAt\",\n",
    "}\n",
    "\n",
    "# Make the request\n",
    "response = requests.get(url, params=params)\n",
    "# Check for success\n",
    "if response.status_code == 200:\n",
    "    data = response.json()\n",
    "    print(f\"\\n🔍 Found {len(data['articles'])} articles for query: '{query}'\\n\")\n",
    "    for idx, article in enumerate(data[\"articles\"], 1):\n",
    "        print(f\"{idx}. {article['title']}\")\n",
    "        print(f\"   {article['description']}\")\n",
    "        print(f\"   Source: {article['source']['name']} | Published: {article['publishedAt']}\")\n",
    "        print(\"-\" * 80)\n",
    "else:\n",
    "    print(f\"❌ Error {response.status_code}: {response.text}\")\n"
   ],
   "id": "a9c5dd0ab1a0c00f",
   "outputs": [
    {
     "name": "stdout",
     "output_type": "stream",
     "text": [
      "\n",
      "🔍 Found 5 articles for query: 'Neeraj Chopra'\n",
      "\n",
      "1. PM Modi Celebrates Neeraj Chopra Breaching 90m Mark: 'India Is Elated And Proud'\n",
      "   Prime Minister Narendra Modi celebrates Neeraj Chopra's 90.23m throw at Doha Diamond League 2025, securing second place behind Germany's Julian Weber.\n",
      "   Source: News18 | Published: 2025-05-17T03:34:45Z\n",
      "--------------------------------------------------------------------------------\n",
      "2. Neeraj Chopra: 'Very Happy To Breach 90m Mark But It's Bitter-Sweet Experience'\n",
      "   Neeraj Chopra reached a new milestone in his illustrious career by breaching the 90-metre mark for the first time, recording a personal best of 90.23m.\n",
      "   Source: News18 | Published: 2025-05-17T02:23:58Z\n",
      "--------------------------------------------------------------------------------\n",
      "3. Neeraj Chopra’s 90m dream achieved: On ‘bittersweet’ night, Neeraj hopes it is just the beginning for bigger throws\n",
      "   Neeraj Chopra was more relieved than happy as the 90.23m throw was confirmed. The monkey is off the back. And he isn’t satisfied just yet. “I believe that I am ready to throw further. It's just a beginning.”\n",
      "   Source: The Indian Express | Published: 2025-05-17T00:30:07Z\n",
      "--------------------------------------------------------------------------------\n",
      "4. Neeraj Chopra Doha Diamond League 2025 Javelin throw Highlights: 90m breached by Neeraj Chopra but still finishes second behind Julian Weber\n",
      "   Neeraj Chopra Doha Diamond League 2025 Match Today Highlights: Tokyo Olympics champion Neeraj Chopra kickstarts his 2025 Diamond League campaign in Qatar with a 90.23m throw on Friday.\n",
      "   Source: The Indian Express | Published: 2025-05-16T19:19:00Z\n",
      "--------------------------------------------------------------------------------\n",
      "5. Watch - Moment Neeraj Chopra realised he crossed the 90-metre mark with a gigantic throw\n",
      "   Neeraj Chopra made history at Doha Diamond League 2025, breaching the 90m mark for the first time in his career. He registered a 90.23m throw in his third attempt to enter the elite club. Watch his emotional celebration and reaction.\n",
      "   Source: Firstpost | Published: 2025-05-16T18:54:21Z\n",
      "--------------------------------------------------------------------------------\n"
     ]
    }
   ],
   "execution_count": 164
  },
  {
   "metadata": {
    "ExecuteTime": {
     "end_time": "2025-05-17T08:05:37.487932Z",
     "start_time": "2025-05-17T08:05:36.886848Z"
    }
   },
   "cell_type": "code",
   "source": [
    "import requests\n",
    "import re\n",
    "from bs4 import BeautifulSoup\n",
    "\n",
    "url = \"https://trends24.in/india/delhi\"\n",
    "headers = {\"User-Agent\": \"Mozilla/5.0\"}\n",
    "res = requests.get(url, headers=headers)\n",
    "soup = BeautifulSoup(res.text, \"html.parser\")\n",
    "\n",
    "# trends = soup.select(\"li a\")\n",
    "trends = soup.select(\"ol.trend-card__list li span.trend-name a.trend-link\")\n",
    "for tag in trends[:50]:\n",
    "    text = tag.text.strip()\n",
    "    pattern = re.compile(r'^[\\w\\s#]+$')  # letters, digits, underscore, spaces, # only\n",
    "    if text.startswith(\"#\") and pattern.match(text):\n",
    "        print(text)\n"
   ],
   "id": "85348fec0406337e",
   "outputs": [
    {
     "name": "stdout",
     "output_type": "stream",
     "text": [
      "C I I Operation Sindoor\n",
      "World Hypertension Day\n",
      "Goa Farm Land Scam\n",
      "Neeraj Chopra\n",
      "L O L Fan Fest D\n",
      "Save Andaman Cooprative Bank\n",
      "World Telecommunication Day\n",
      "dohadiamondleague2025\n",
      "Aadarsh Dincharya\n",
      "R C Bvs K K R\n",
      "Mega\n",
      "Mission Impossible\n",
      "Chiru Anil\n",
      "Nayanthara\n",
      "Shehbaz Sharif\n"
     ]
    }
   ],
   "execution_count": 158
  }
 ],
 "metadata": {
  "kernelspec": {
   "display_name": "Python 3",
   "language": "python",
   "name": "python3"
  },
  "language_info": {
   "codemirror_mode": {
    "name": "ipython",
    "version": 2
   },
   "file_extension": ".py",
   "mimetype": "text/x-python",
   "name": "python",
   "nbconvert_exporter": "python",
   "pygments_lexer": "ipython2",
   "version": "2.7.6"
  }
 },
 "nbformat": 4,
 "nbformat_minor": 5
}
