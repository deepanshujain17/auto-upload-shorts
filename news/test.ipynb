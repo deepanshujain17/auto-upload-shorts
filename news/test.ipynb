{
 "cells": [
  {
   "cell_type": "code",
   "id": "initial_id",
   "metadata": {
    "collapsed": true,
    "ExecuteTime": {
     "end_time": "2025-05-12T12:49:48.578953Z",
     "start_time": "2025-05-12T12:49:48.387649Z"
    }
   },
   "source": [
    "import dotenv\n",
    "\n",
    "from utils.html_utils import create_html_card\n",
    "from utils.news_utils import get_news\n",
    "from utils.browser_utils import render_card_to_image\n"
   ],
   "outputs": [],
   "execution_count": 1
  },
  {
   "metadata": {
    "ExecuteTime": {
     "end_time": "2025-05-12T13:14:54.810870Z",
     "start_time": "2025-05-12T13:14:54.790096Z"
    }
   },
   "cell_type": "code",
   "source": [
    "from selenium import webdriver\n",
    "from selenium.webdriver.chrome.options import Options\n",
    "from selenium.webdriver.chrome.service import Service\n",
    "from webdriver_manager.chrome import ChromeDriverManager\n",
    "from time import sleep\n",
    "import os\n",
    "\n",
    "def render_card_to_image(html_file, output_image):\n",
    "    options = Options()\n",
    "    # options.add_argument('--headless')\n",
    "    options.add_argument('--window-size=700,740')\n",
    "    driver = webdriver.Chrome(service=Service(ChromeDriverManager().install()), options=options)\n",
    "    file_path = f\"file://{os.path.abspath(html_file)}\"\n",
    "    driver.get(file_path)\n",
    "    sleep(2)  # allow time for render\n",
    "    driver.save_screenshot(output_image)\n",
    "    driver.quit()\n"
   ],
   "id": "164c1846084a4182",
   "outputs": [],
   "execution_count": 83
  },
  {
   "metadata": {
    "ExecuteTime": {
     "end_time": "2025-05-12T13:14:31.887492Z",
     "start_time": "2025-05-12T13:14:31.884906Z"
    }
   },
   "cell_type": "code",
   "source": "",
   "id": "3fe000563b2af4f7",
   "outputs": [],
   "execution_count": null
  },
  {
   "metadata": {
    "ExecuteTime": {
     "end_time": "2025-05-12T13:14:32.072602Z",
     "start_time": "2025-05-12T13:14:32.070538Z"
    }
   },
   "cell_type": "code",
   "source": [
    "article = {\n",
    "      \"title\": \"Google's Pixel 7 and 7 Pro’s design gets revealed even more with fresh crisp renders\",\n",
    "      \"description\": \"Now we have a complete image of what the next Google flagship phones will look like. All that's left now is to welcome them during their October announcement!\",\n",
    "      \"content\": \"Google’s highly anticipated upcoming Pixel 7 series is just around the corner, scheduled to be announced on October 6, 2022, at 10 am EDT during the Made by Google event. Well, not that there is any lack of images showing the two new Google phones, b... [1419 chars]\",\n",
    "      \"url\": \"https://www.phonearena.com/news/google-pixel-7-and-pro-design-revealed-even-more-fresh-renders_id142800\",\n",
    "      \"image\": \"https://m-cdn.phonearena.com/images/article/142800-wide-two_1200/Googles-Pixel-7-and-7-Pros-design-gets-revealed-even-more-with-fresh-crisp-renders.jpg\",\n",
    "      \"publishedAt\": \"2022-09-28T08:14:24Z\",\n",
    "      \"source\": {\n",
    "        \"name\": \"PhoneArena\",\n",
    "        \"url\": \"https://www.phonearena.com\"\n",
    "      }\n",
    "    }"
   ],
   "id": "cd13f4ee9087d417",
   "outputs": [],
   "execution_count": 78
  },
  {
   "metadata": {
    "ExecuteTime": {
     "end_time": "2025-05-12T13:15:29.818624Z",
     "start_time": "2025-05-12T13:15:29.812624Z"
    }
   },
   "cell_type": "code",
   "source": [
    "# --- GENERATE HTML ---\n",
    "def create_html_card(article, output_path=\"temp.html\"):\n",
    "    html_template = \"\"\"\n",
    "    <html>\n",
    "        <head>\n",
    "            <style>\n",
    "                body {{\n",
    "                    font-family: Arial, sans-serif;\n",
    "                    width: 600px;\n",
    "                    border: 1px solid #ccc;\n",
    "                    padding: 20px;\n",
    "                    margin: 0 auto;\n",
    "                    background-color: #f9f9f9;\n",
    "                }}\n",
    "                img {{\n",
    "                    max-width: 100%;\n",
    "                    height: auto;\n",
    "                    border-radius: 8px;\n",
    "                }}\n",
    "                h2 {{\n",
    "                    font-size: 20px;\n",
    "                    margin-top: 15px;\n",
    "                    margin-bottom: 10px;\n",
    "                }}\n",
    "                p {{\n",
    "                    font-size: 16px;\n",
    "                }}\n",
    "                .meta {{\n",
    "                    font-size: 12px;\n",
    "                    color: gray;\n",
    "                }}\n",
    "            </style>\n",
    "        </head>\n",
    "        <body>\n",
    "            {image_html}\n",
    "            <h2>{title}</h2>\n",
    "            <p>{description}</p>\n",
    "            <div class=\"meta\">\n",
    "                <p><b>Source:</b> {source}</p>\n",
    "                <p><b>Published:</b> {published}</p>\n",
    "            </div>\n",
    "        </body>\n",
    "    </html>\n",
    "    \"\"\"\n",
    "\n",
    "    image_html = f\"<img src='{article.get('image', '')}' alt='News image'>\" if article.get(\"image\") else \"\"\n",
    "\n",
    "    html_content = html_template.format(\n",
    "        title=article.get(\"title\", \"No Title\"),\n",
    "        description=article.get(\"description\", \"No Description\"),\n",
    "        image_html=image_html,\n",
    "        source=article.get(\"source\", {}).get(\"name\", \"Unknown\"),\n",
    "        published=article.get(\"publishedAt\", \"Unknown\")\n",
    "    )\n",
    "\n",
    "    with open(output_path, \"w\", encoding=\"utf-8\") as f:\n",
    "        f.write(html_content)\n",
    "        print(\"done\")\n"
   ],
   "id": "930563256822dad9",
   "outputs": [],
   "execution_count": 85
  },
  {
   "metadata": {
    "ExecuteTime": {
     "end_time": "2025-05-12T13:15:31.058287Z",
     "start_time": "2025-05-12T13:15:31.056484Z"
    }
   },
   "cell_type": "code",
   "source": [
    "category = \"nation\"\n",
    "html_output = f\"temp/temp_{category}.html\"\n",
    "image_output = f\"news_cards/card_{category}.png\"\n"
   ],
   "id": "500998f6fe126371",
   "outputs": [],
   "execution_count": 86
  },
  {
   "metadata": {
    "ExecuteTime": {
     "end_time": "2025-05-12T13:15:31.503044Z",
     "start_time": "2025-05-12T13:15:31.491192Z"
    }
   },
   "cell_type": "code",
   "source": "create_html_card(article, output_path=html_output)",
   "id": "a7d5eec225f234c1",
   "outputs": [
    {
     "name": "stdout",
     "output_type": "stream",
     "text": [
      "done\n"
     ]
    }
   ],
   "execution_count": 87
  },
  {
   "metadata": {
    "ExecuteTime": {
     "end_time": "2025-05-12T13:15:37.890139Z",
     "start_time": "2025-05-12T13:15:31.683521Z"
    }
   },
   "cell_type": "code",
   "source": [
    "# create_html_card(article, output_path=html_output)\n",
    "render_card_to_image(html_output, image_output)"
   ],
   "id": "bbba6d3f3be49693",
   "outputs": [],
   "execution_count": 88
  },
  {
   "metadata": {
    "ExecuteTime": {
     "end_time": "2025-05-12T13:15:37.904624Z",
     "start_time": "2025-05-12T13:15:37.903149Z"
    }
   },
   "cell_type": "code",
   "source": "",
   "id": "90209a0712863d89",
   "outputs": [],
   "execution_count": null
  },
  {
   "metadata": {},
   "cell_type": "code",
   "outputs": [],
   "execution_count": null,
   "source": "",
   "id": "8da25ac0be1eb09d"
  }
 ],
 "metadata": {
  "kernelspec": {
   "display_name": "Python 3",
   "language": "python",
   "name": "python3"
  },
  "language_info": {
   "codemirror_mode": {
    "name": "ipython",
    "version": 2
   },
   "file_extension": ".py",
   "mimetype": "text/x-python",
   "name": "python",
   "nbconvert_exporter": "python",
   "pygments_lexer": "ipython2",
   "version": "2.7.6"
  }
 },
 "nbformat": 4,
 "nbformat_minor": 5
}
